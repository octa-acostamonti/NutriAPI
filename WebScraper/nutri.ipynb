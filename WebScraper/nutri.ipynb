{
 "cells": [
  {
   "cell_type": "code",
   "execution_count": null,
   "metadata": {},
   "outputs": [],
   "source": [
    "import requests \n",
    "from bs4 import BeautifulSoup, Tag\n",
    "import pandas as pd"
   ]
  },
  {
   "cell_type": "code",
   "execution_count": null,
   "metadata": {},
   "outputs": [],
   "source": [
    "# Parsear el codigo source de la página \n",
    "url = \"https://www.fatsecret.com.ar/calor%C3%ADas-nutrici%C3%B3n/search?q=Aceite\"\n",
    "\n",
    "page = requests.get(url).text\n",
    "\n",
    "pageSoup = BeautifulSoup(page, \"html.parser\")\n"
   ]
  },
  {
   "cell_type": "code",
   "execution_count": null,
   "metadata": {},
   "outputs": [],
   "source": [
    "pageSoup.prettify"
   ]
  },
  {
   "cell_type": "code",
   "execution_count": null,
   "metadata": {},
   "outputs": [],
   "source": [
    "# Filtrar para encontrar la tabla \n",
    "tabla = pageSoup.find(\"td\", class_=\"leftCell\")"
   ]
  },
  {
   "cell_type": "code",
   "execution_count": null,
   "metadata": {},
   "outputs": [],
   "source": [
    "# Encontrar todos los Nombres de Productos\n",
    "Productos = tabla.find_all(\"a\",class_=\"prominent\")\n",
    "Producto = []\n",
    "\n",
    "for caracter in Productos:\n",
    "    Producto.append(caracter.text)\n",
    "    \n",
    "Producto"
   ]
  },
  {
   "cell_type": "code",
   "execution_count": null,
   "metadata": {},
   "outputs": [],
   "source": [
    "# Encontrar los nombres de Marcas\n",
    "Marcas = tabla.find_all(\"a\",class_=\"brand\")\n",
    "Marca = []\n",
    "for caracter in Marcas:\n",
    "    marca_texto = caracter.text.replace(\"(\", \"\").replace(\")\", \"\")\n",
    "    Marca.append(marca_texto)\n",
    "\n",
    "Marca\n",
    "    "
   ]
  },
  {
   "cell_type": "code",
   "execution_count": null,
   "metadata": {},
   "outputs": [],
   "source": [
    "# Encontrar las cantidades\n",
    "Cantidades = tabla.find_all(\"div\",class_=\"smallText greyText greyLink\")\n",
    "Cantidad = []\n",
    "for caracter in Cantidades:\n",
    "    cantidad_texto = caracter.text.replace(\"\\r\", \"\").replace(\"\\n\", \"\").replace(\"\\t\", \"\")\n",
    "    cantidad_texto = cantidad_texto.split(\"-\", 1)[0]\n",
    "    Cantidad.append(cantidad_texto)\n",
    "\n",
    "Cantidad"
   ]
  },
  {
   "cell_type": "code",
   "execution_count": null,
   "metadata": {},
   "outputs": [],
   "source": [
    "# Encontrar las Calorias\n",
    "Calorias = tabla.find_all(\"div\", class_=\"smallText greyText greyLink\")\n",
    "Caloria = []\n",
    "for caracter in Calorias:\n",
    "    calorias_texto = caracter.text.replace(\"\\r\", \"\").replace(\"\\n\", \"\").replace(\"\\t\", \"\")\n",
    "    calorias_texto = calorias_texto.split(\"-\", 1)[-1].split(\"|\")[0].strip().replace(\"Calorías:\", \"\")\n",
    "    Caloria.append(calorias_texto.strip())\n",
    "\n",
    "\n",
    "\n",
    "Caloria\n"
   ]
  },
  {
   "cell_type": "code",
   "execution_count": null,
   "metadata": {},
   "outputs": [],
   "source": [
    "# Encontrar las Grasas\n",
    "Grasas = tabla.find_all(\"div\", class_=\"smallText greyText greyLink\")\n",
    "Grasa = []\n",
    "for caracter in Grasas:\n",
    "    grasas_texto = caracter.text.replace(\"\\r\", \"\").replace(\"\\n\", \"\").replace(\"\\t\", \"\")\n",
    "    grasas_texto = grasas_texto.split(\"|\", 1)[-1].split(\"|\")[0].strip().replace(\"Grasa:\", \"\")\n",
    "    Grasa.append(grasas_texto.strip())\n",
    "\n",
    "Grasa\n"
   ]
  },
  {
   "cell_type": "code",
   "execution_count": null,
   "metadata": {},
   "outputs": [],
   "source": [
    "# Encontrar los Carbohidratos\n",
    "Carbohidratos = tabla.find_all(\"div\", class_=\"smallText greyText greyLink\")\n",
    "Carbohidrato = []\n",
    "for caracter in Carbohidratos:\n",
    "    carbohidratos_texto = caracter.text.replace(\"\\r\", \"\").replace(\"\\n\", \"\").replace(\"\\t\", \"\")\n",
    "    carbohidratos_aexto = carbohidratos_texto.split(\"|\", 2)[-1].split(\"|\")[0].strip().replace(\"Carbh:\", \"\")\n",
    "    Carbohidrato.append(carbohidratos_texto.strip())\n",
    "\n",
    "Carbohidrato\n"
   ]
  },
  {
   "cell_type": "code",
   "execution_count": null,
   "metadata": {},
   "outputs": [],
   "source": [
    "# Encontrar las Proteinas\n",
    "Proteinas = tabla.find_all(\"div\", class_=\"smallText greyText greyLink\")\n",
    "Proteina = []\n",
    "for caracter in Proteinas:\n",
    "    proteinas_texto = caracter.text.replace(\"\\r\", \"\").replace(\"\\n\", \"\").replace(\"\\t\", \"\")\n",
    "    proteinas_texto = proteinas_texto.split(\"|\", 3)[-1].split(\"|\")[0].strip().replace(\"Prot:\", \"\")\n",
    "    proteinas_texto = proteinas_texto.split(\"g\", 1)[0] + \"g\"\n",
    "    Proteina.append(proteinas_texto.strip())\n",
    "\n",
    "Proteina"
   ]
  },
  {
   "cell_type": "code",
   "execution_count": null,
   "metadata": {},
   "outputs": [],
   "source": [
    "columnas = [\"Producto\",\"Marca\",\"Cantidad\",\"Caloria\",\"Grasa\",\"Carbohidrato\",\"Proteina\"]\n",
    "data_ = list(zip(Producto, Marca, Cantidad, Caloria, Grasa, Carbohidrato, Proteina))\n",
    "df = pd.DataFrame(columns=columnas,data=data_)"
   ]
  },
  {
   "cell_type": "code",
   "execution_count": null,
   "metadata": {},
   "outputs": [],
   "source": [
    "Tabla_Nutricional_Productos = pd.concat([Tabla_Nutricional_Productos,df],ignore_index=True)"
   ]
  },
  {
   "cell_type": "code",
   "execution_count": null,
   "metadata": {},
   "outputs": [],
   "source": [
    "# Generar las Columnas y la Data para luego insertarla en un DataFrame\n",
    "columnas = [\"Producto\",\"Marca\",\"Cantidad\",\"Caloria\",\"Grasa\",\"Carbohidrato\",\"Proteina\"]\n",
    "\n",
    "data_ = list(zip(Producto, Marca, Cantidad, Caloria, Grasa, Carbohidrato, Proteina))\n",
    "Tabla_Nutricional_Productos = pd.DataFrame(columns= columnas,data=data_)"
   ]
  },
  {
   "cell_type": "code",
   "execution_count": null,
   "metadata": {},
   "outputs": [],
   "source": [
    "Tabla_Nutricional_Productos"
   ]
  },
  {
   "cell_type": "code",
   "execution_count": null,
   "metadata": {},
   "outputs": [],
   "source": [
    "ñom = requests.get(\"https://www.fatsecret.com.ar/calor%C3%ADas-nutrici%C3%B3n/search?q=Leche+Descremada&pg=6\").text\n",
    "pagsigSoup = BeautifulSoup(ñom,\"html.parser\")"
   ]
  },
  {
   "cell_type": "code",
   "execution_count": null,
   "metadata": {},
   "outputs": [],
   "source": [
    "paginassiguiente = pagsigSoup.find(\"div\", class_=\"searchResultsPaging\")\n",
    "paginassiguiente = paginassiguiente.find_all(\"a\")\n",
    "pagsig = []\n",
    "base_url = \"https://www.fatsecret.com.ar\"\n",
    "for link in paginassiguiente[1:-1]:\n",
    "    pagsig.append(base_url + link['href'])\n",
    "\n"
   ]
  },
  {
   "cell_type": "code",
   "execution_count": null,
   "metadata": {},
   "outputs": [],
   "source": [
    "pagsig"
   ]
  },
  {
   "cell_type": "code",
   "execution_count": null,
   "metadata": {},
   "outputs": [],
   "source": [
    "elementos = [\"Aceite\",\"Vinagre\",\"Pasta\",\"Arroz\",\"Legumbre\",\"Semilla\",\"Harina\",\"Premezcla+salada\",\"Polenta\",\"Avena\",\"Atun\",\"Caballa\",\"Paté\",\"Anchoa\",\"Salsa+de+tomate\",\"Salsa\",\"Choclo\",\"Arvejas\",\"Lenteja\",\"Poroto\",\"Garbanzos\",\"Chaucha\",\"Palmitos\",\"Frijoles\",\"Aceitunas\",\"Caldos\",\"Sopas\",\"Purés+instantaneos\",\"Premezclas\",\"Coberturas\",\"Rellenos\",\"Gelatinas\",\"Postres\",\"Dulce+de+Leche\",\"Nutella\",\"Mermeladas\",\"Papas+fritas\",\"Snacks de maiz\",\"Nachos\",\"Maní\",\"Palitos\",\"Galletitas dulces\",\"Bizcochitos\",\"Galletitas de agua\",\"Galletas de arroz\",\"Tostadas\",\"Grisines\",\"Budines\",\"Magdalenas\",\"Yerba\",\"Café\",\"Té\",\"Mate Cocido\",\"Cacao\",\"Azúcar\",\"Edulcorantes\",\"Endulzantes\",\"Cereales\",\"Barritas de cereales\",\"Granola\",\"Chocolates\",\"Alfajores\",\"Caramelos\",\"Gomitas\",\"Chupetines\",\"Bocaditos\",\"Confites\",\"Turrones\",\"Leche entera\",\"Leche descremada\",\"Leche vegetal\",\"Leche en polvo\",\"Yogures enteros\",\"Yogures descremados\",\"Manteca\",\"Levadura\",\"Cremas de leche\",\"Huevos\",\"Tapas\",\"Dulce de membrillo\",\"Dulce de batata\",\"Salchichas\",\"Quesos\",\"Fiambres\",\"Carne vacuna\",\"Pollo\",\"Carne de cerdo\",\"Anchuras\",\"embutidos\",\"Pescados\",\"Mariscos\",\"Frutas\",\"Verduras\",\"Frutos secos\",\"Pan\",\"Pan rallado\",\"Hamburgesas+congeladas\",\"Nuggets congeladas\",\"Papas congeladas\",\"Helado\"]\n",
    "for i in range(len(elementos)):\n",
    "    if \" \" in elementos[i]:\n",
    "        elementos[i] = elementos[i].replace(\" \", \"+\")\n",
    "\n",
    "ñomis = []\n",
    "for e in elementos:\n",
    "    ñomis.append(f\"https://www.fatsecret.com.ar/calor%C3%ADas-nutrici%C3%B3n/search?q={e}\")\n",
    "\n",
    "for url in ñomis:\n",
    "    page = requests.get(url)\n",
    "    soup = BeautifulSoup(page.content, \"html.parser\")\n",
    "    tabla_busqueda = soup.find(\"div\",class_=\"searchResultsPaging\")\n",
    "    if tabla_busqueda is not None:\n",
    "        res = tabla_busqueda.find_all(\"a\")\n",
    "        res = [tag.text if isinstance(tag, Tag) else tag for tag in res]\n",
    "        if \"Siguiente\" in res:\n",
    "            res.remove(\"Siguiente\")\n",
    "        res_int = [int(val) for val in res]\n",
    "        max_pag = max(res_int)\n",
    "        link = url + f\"&pg={max_pag}\"\n",
    "        print(link)\n",
    "    else:\n",
    "        print(f\"No search results found for {url}\")\n",
    "    \n"
   ]
  },
  {
   "cell_type": "code",
   "execution_count": null,
   "metadata": {},
   "outputs": [],
   "source": [
    "ñomis"
   ]
  },
  {
   "cell_type": "code",
   "execution_count": null,
   "metadata": {},
   "outputs": [],
   "source": [
    "for i in range(0,len(ñomis)):\n",
    "    url = ñomis[i]\n",
    "    page = requests.get(url)\n",
    "    soup = BeautifulSoup(page.content, \"html.parser\")\n",
    "\n",
    "    # Find the first \"a\" tag with class \"strong\"\n",
    "    tabla_busqueda = soup.find(\"div\",class_=\"searchResultsPaging\")\n",
    "    if tabla_busqueda is not None:\n",
    "        res = tabla_busqueda.find_all(\"a\")\n",
    "        # Only access the text attribute if the element is a tag\n",
    "        res = [tag.text if isinstance(tag, Tag) else tag for tag in res]\n",
    "        print(res)\n",
    "    else:\n",
    "        print(f\"No search results found for {url}\")"
   ]
  },
  {
   "cell_type": "code",
   "execution_count": null,
   "metadata": {},
   "outputs": [],
   "source": [
    "elementos = [\"Aceite\",\"Vinagre\",\"Pasta\",\"Arroz\",\"Legumbre\",\"Semilla\",\"Harina\",\"Premezcla+salada\",\"Polenta\",\"Avena\",\"Atun\",\"Caballa\",\"Paté\",\"Anchoa\",\"Salsa+de+tomate\",\"Salsa\",\"Choclo\",\"Arvejas\",\"Lenteja\",\"Poroto\",\"Garbanzos\",\"Chaucha\",\"Palmitos\",\"Frijoles\",\"Aceitunas\",\"Caldos\",\"Sopas\",\"Purés+instantaneos\",\"Premezclas\",\"Coberturas\",\"Rellenos\",\"Gelatinas\",\"Postres\",\"Dulce+de+Leche\",\"Nutella\",\"Mermeladas\",\"Papas+fritas\",\"Snacks de maiz\",\"Nachos\",\"Maní\",\"Palitos\",\"Galletitas dulces\",\"Bizcochitos\",\"Galletitas de agua\",\"Galletas de arroz\",\"Tostadas\",\"Grisines\",\"Budines\",\"Magdalenas\",\"Yerba\",\"Café\",\"Té\",\"Mate Cocido\",\"Cacao\",\"Azúcar\",\"Edulcorantes\",\"Endulzantes\",\"Cereales\",\"Barritas de cereales\",\"Granola\",\"Chocolates\",\"Alfajores\",\"Caramelos\",\"Gomitas\",\"Chupetines\",\"Bocaditos\",\"Confites\",\"Confites\",\"Turrones\",\"Leche entera\",\"Leche descremada\",\"Leche vegetal\",\"Leche en polvo\",\"Yogures enteros\",\"Yogures descremados\",\"Manteca\",\"Levadura\",\"Cremas de leche\",\"Huevos\",\"Tapas\",\"Dulce de membrillo\",\"Dulce de batata\",\"Salchichas\",\"Quesos\",\"Fiambres\",\"Carne vacuna\",\"Pollo\",\"Carne de cerdo\",\"Anchuras\",\"embutidos\",\"Pescados\",\"Mariscos\",\"Frutas\",\"Verduras\",\"Frutos secos\",\"Panificado\",\"Pan rallado\",\"Hamburguesas congeladas\",\"Nuggets congeladas\",\"Papas congeladas\",\"Helado\"]\n",
    "\n",
    "for i in range(len(elementos)):\n",
    "    if \" \" in elementos[i]:\n",
    "        elementos[i] = elementos[i].replace(\" \", \"+\")\n",
    "\n",
    "ñomis = []\n",
    "for e in elementos:\n",
    "    ñomis.append(f\"https://www.fatsecret.com.ar/calor%C3%ADas-nutrici%C3%B3n/search?q={e}&pg=6\")\n",
    "\n",
    "ñomis\n",
    "\n"
   ]
  },
  {
   "cell_type": "code",
   "execution_count": null,
   "metadata": {},
   "outputs": [],
   "source": [
    "import requests\n",
    "import pandas as pd\n",
    "from bs4 import BeautifulSoup, Tag\n",
    "\n",
    "\n",
    "\n",
    "def Scraper_v2():\n",
    "    elementos = [\"Aceite\",\"Vinagre\",\"Pasta\",\"Arroz\",\"Legumbre\",\"Semilla\",\"Harina\",\"Premezcla+salada\",\"Polenta\",\"Avena\",\"Atun\",\"Caballa\",\"Paté\",\"Anchoa\",\"Salsa+de+tomate\",\"Salsa\",\"Choclo\",\"Arvejas\",\"Lenteja\",\"Poroto\",\"Garbanzos\",\"Chaucha\",\"Palmitos\",\"Frijoles\",\"Aceitunas\",\"Caldos\",\"Sopas\",\"Purés+instantaneos\",\"Premezclas\",\"Coberturas\",\"Rellenos\",\"Gelatinas\",\"Postres\",\"Dulce+de+Leche\",\"Nutella\",\"Mermeladas\",\"Papas+fritas\",\"Snacks de maiz\",\"Nachos\",\"Maní\",\"Palitos\",\"Galletitas dulces\",\"Bizcochitos\",\"Galletitas de agua\",\"Galletas de arroz\",\"Tostadas\",\"Grisines\",\"Budines\",\"Magdalenas\",\"Yerba\",\"Café\",\"Té\",\"Mate Cocido\",\"Cacao\",\"Azúcar\",\"Edulcorantes\",\"Endulzantes\",\"Cereales\",\"Barritas de cereales\",\"Granola\",\"Chocolates\",\"Alfajores\",\"Caramelos\",\"Gomitas\",\"Chupetines\",\"Bocaditos\",\"Confites\",\"Turrones\",\"Leche entera\",\"Leche descremada\",\"Leche vegetal\",\"Leche en polvo\",\"Yogures enteros\",\"Yogures descremados\",\"Manteca\",\"Levadura\",\"Cremas de leche\",\"Huevos\",\"Tapas\",\"Dulce de membrillo\",\"Dulce de batata\",\"Salchichas\",\"Quesos\",\"Fiambres\",\"Carne vacuna\",\"Pollo\",\"Carne de cerdo\",\"Anchuras\",\"embutidos\",\"Pescados\",\"Mariscos\",\"Frutas\",\"Verduras\",\"Frutos secos\",\"Pan\",\"Pan rallado\",\"Nuggets congeladas\",\"Papas congeladas\",\"Helado\"]\n",
    "    for i in range(len(elementos)):\n",
    "        if \" \" in elementos[i]:\n",
    "            elementos[i] = elementos[i].replace(\" \", \"+\")\n",
    "\n",
    "    ñomis = []\n",
    "    for e in elementos:\n",
    "        ñomis.append(f\"https://www.fatsecret.com.ar/calor%C3%ADas-nutrici%C3%B3n/search?q={e}\")\n",
    "\n",
    "    Tabla_Nutricional_Productos = pd.DataFrame()\n",
    "    \n",
    "    for url in ñomis:\n",
    "        page = requests.get(url)\n",
    "        soup = BeautifulSoup(page.content, \"html.parser\")\n",
    "        tabla_busqueda = soup.find(\"div\",class_=\"searchResultsPaging\")\n",
    "        if tabla_busqueda is not None:\n",
    "            res = tabla_busqueda.find_all(\"a\")\n",
    "            res = [tag.text if isinstance(tag, Tag) else tag for tag in res]\n",
    "            if \"Siguiente\" in res:\n",
    "                res.remove(\"Siguiente\")\n",
    "            res_int = [int(val) for val in res]\n",
    "            max_pag = max(res_int)\n",
    "            link = url + f\"&pg={max_pag}\"\n",
    "            url = link\n",
    "            page = requests.get(url).text\n",
    "            pageSoup = BeautifulSoup(page, \"html.parser\")\n",
    "            tabla = pageSoup.find(\"td\", class_=\"leftCell\")\n",
    "\n",
    "            # Encontrar todos los Nombres de Productos\n",
    "            Productos = tabla.find_all(\"a\",class_=\"prominent\")\n",
    "            Producto = []\n",
    "            for caracter in Productos:\n",
    "                Producto.append(caracter.text)\n",
    "           \n",
    "            Marcas = tabla.find_all(\"a\",class_=\"brand\")\n",
    "            Marca = []\n",
    "            for caracter in Marcas:\n",
    "                marca_texto = caracter.text.replace(\"(\", \"\").replace(\")\", \"\")\n",
    "                Marca.append(marca_texto)\n",
    "\n",
    "            # Check if there are as many brands as products\n",
    "            if len(Marca) < len(Producto):\n",
    "                #Append None for missing brands\n",
    "                Marca += [None] * (len(Producto) - len(Marca))\n",
    "            \n",
    "            # Encontrar las cantidades\n",
    "            Cantidades = tabla.find_all(\"div\",class_=\"smallText greyText greyLink\")\n",
    "            Cantidad = []\n",
    "            for caracter in Cantidades:\n",
    "                cantidad_texto = caracter.text.replace(\"\\r\", \"\").replace(\"\\n\", \"\").replace(\"\\t\", \"\")\n",
    "                cantidad_texto = cantidad_texto.split(\"-\", 1)[0]\n",
    "                Cantidad.append(cantidad_texto)\n",
    "           \n",
    "            # Encontrar las Calorias\n",
    "            Calorias = tabla.find_all(\"div\", class_=\"smallText greyText greyLink\")\n",
    "            Caloria = []\n",
    "            for caracter in Calorias:\n",
    "                calorias_texto = caracter.text.replace(\"\\r\", \"\").replace(\"\\n\", \"\").replace(\"\\t\", \"\")\n",
    "                calorias_texto = calorias_texto.split(\"-\", 1)[-1].split(\"|\")[0].strip().replace(\"Calorías:\", \"\")\n",
    "                Caloria.append(calorias_texto.strip())\n",
    "           \n",
    "            # Encontrar las Grasas\n",
    "            Grasas = tabla.find_all(\"div\", class_=\"smallText greyText greyLink\")\n",
    "            Grasa = []\n",
    "            for caracter in Grasas:\n",
    "                grasas_texto = caracter.text.replace(\"\\r\", \"\").replace(\"\\n\", \"\").replace(\"\\t\", \"\")\n",
    "                grasas_texto = grasas_texto.split(\"|\", 1)[-1].split(\"|\")[0].strip().replace(\"Grasa:\", \"\")\n",
    "                Grasa.append(grasas_texto.strip())\n",
    "           \n",
    "            # Encontrar los Carbohidratos\n",
    "            Carbohidratos = tabla.find_all(\"div\", class_=\"smallText greyText greyLink\")\n",
    "            Carbohidrato = []\n",
    "            for caracter in Carbohidratos:\n",
    "                carbohidratos_texto = caracter.text.replace(\"\\r\", \"\").replace(\"\\n\", \"\").replace(\"\\t\", \"\")\n",
    "                carbohidratos_texto = carbohidratos_texto.split(\"|\", 2)[-1].split(\"|\")[0].strip().replace(\"Carbh:\", \"\")\n",
    "                Carbohidrato.append(carbohidratos_texto.strip())\n",
    "           \n",
    "            # Encontrar las Proteinas\n",
    "            Proteinas = tabla.find_all(\"div\", class_=\"smallText greyText greyLink\")\n",
    "            Proteina = []\n",
    "            for caracter in Proteinas:\n",
    "                proteinas_texto = caracter.text.replace(\"\\r\", \"\").replace(\"\\n\", \"\").replace(\"\\t\", \"\")\n",
    "                proteinas_texto = proteinas_texto.split(\"|\", 3)[-1].split(\"|\")[0].strip().replace(\"Prot:\", \"\")\n",
    "                proteinas_texto = proteinas_texto.split(\"g\", 1)[0] + \"g\"\n",
    "                Proteina.append(proteinas_texto.strip())\n",
    "        \n",
    "        \n",
    "            if not Tabla_Nutricional_Productos.empty:\n",
    "                columnas = [\"Producto\",\"Marca\",\"Cantidad\",\"Caloria\",\"Grasa\",\"Carbohidrato\",\"Proteina\"]\n",
    "                data_ = list(zip(Producto, Marca, Cantidad, Caloria, Grasa, Carbohidrato, Proteina))\n",
    "                df = pd.DataFrame(columns=columnas,data=data_)\n",
    "                Tabla_Nutricional_Productos = pd.concat([Tabla_Nutricional_Productos,df],ignore_index=True)\n",
    "            else:\n",
    "                columnas = [\"Producto\",\"Marca\",\"Cantidad\",\"Caloria\",\"Grasa\",\"Carbohidrato\",\"Proteina\"]\n",
    "                data_ = list(zip(Producto, Marca, Cantidad, Caloria, Grasa, Carbohidrato, Proteina))\n",
    "                Tabla_Nutricional_Productos = pd.DataFrame(columns= columnas,data=data_)\n",
    "            \n",
    "    return Tabla_Nutricional_Productos\n",
    "\n",
    "\n",
    "\n",
    "    \n",
    "    \n",
    "    "
   ]
  },
  {
   "cell_type": "code",
   "execution_count": null,
   "metadata": {},
   "outputs": [],
   "source": [
    "Scraper_v2()"
   ]
  },
  {
   "cell_type": "code",
   "execution_count": null,
   "metadata": {},
   "outputs": [],
   "source": [
    "import requests\n",
    "import pandas as pd\n",
    "from bs4 import BeautifulSoup\n",
    "\n",
    "\n",
    "\n",
    "def Scraper(url_):\n",
    "    url_ = requests.get(url_).text\n",
    "    pagsigSoup = BeautifulSoup(url_,\"html.parser\") \n",
    "    paginassiguiente = pagsigSoup.find(\"div\", class_=\"searchResultsPaging\")\n",
    "    paginassiguiente = paginassiguiente.find_all(\"a\")\n",
    "    pagsig = []\n",
    "    base_url = \"https://www.fatsecret.com.ar\"\n",
    "    for link in paginassiguiente[1:-1]:\n",
    "        pagsig.append(base_url + link['href'])\n",
    "\n",
    "    Tabla_Nutricional_Productos = pd.DataFrame()\n",
    "    \n",
    "    for i in range(0,(len(pagsig))):\n",
    "        url = pagsig[i]\n",
    "        page = requests.get(url).text\n",
    "        pageSoup = BeautifulSoup(page, \"html.parser\")\n",
    "        tabla = pageSoup.find(\"td\", class_=\"leftCell\")\n",
    "        # Encontrar todos los Nombres de Productos\n",
    "        Productos = tabla.find_all(\"a\",class_=\"prominent\")\n",
    "        Producto = []\n",
    "        for caracter in Productos:\n",
    "            Producto.append(caracter.text)\n",
    "        Marcas = tabla.find_all(\"a\",class_=\"brand\")\n",
    "        Marca = []\n",
    "        for caracter in Marcas:\n",
    "            marca_texto = caracter.text.replace(\"(\", \"\").replace(\")\", \"\")\n",
    "            Marca.append(marca_texto)\n",
    "\n",
    "        # Check if there are as many brands as products\n",
    "        if len(Marca) < len(Producto):\n",
    "            #Append None for missing brands\n",
    "            Marca += [None] * (len(Producto) - len(Marca))\n",
    "        # Encontrar las cantidades\n",
    "        Cantidades = tabla.find_all(\"div\",class_=\"smallText greyText greyLink\")\n",
    "        Cantidad = []\n",
    "        for caracter in Cantidades:\n",
    "            cantidad_texto = caracter.text.replace(\"\\r\", \"\").replace(\"\\n\", \"\").replace(\"\\t\", \"\")\n",
    "            cantidad_texto = cantidad_texto.split(\"-\", 1)[0]\n",
    "            Cantidad.append(cantidad_texto)\n",
    "        # Encontrar las Calorias\n",
    "        Calorias = tabla.find_all(\"div\", class_=\"smallText greyText greyLink\")\n",
    "        Caloria = []\n",
    "        for caracter in Calorias:\n",
    "            calorias_texto = caracter.text.replace(\"\\r\", \"\").replace(\"\\n\", \"\").replace(\"\\t\", \"\")\n",
    "            calorias_texto = calorias_texto.split(\"-\", 1)[-1].split(\"|\")[0].strip().replace(\"Calorías:\", \"\")\n",
    "            Caloria.append(calorias_texto.strip())\n",
    "        # Encontrar las Grasas\n",
    "        Grasas = tabla.find_all(\"div\", class_=\"smallText greyText greyLink\")\n",
    "        Grasa = []\n",
    "        for caracter in Grasas:\n",
    "            grasas_texto = caracter.text.replace(\"\\r\", \"\").replace(\"\\n\", \"\").replace(\"\\t\", \"\")\n",
    "            grasas_texto = grasas_texto.split(\"|\", 1)[-1].split(\"|\")[0].strip().replace(\"Grasa:\", \"\")\n",
    "            Grasa.append(grasas_texto.strip())\n",
    "        # Encontrar los Carbohidratos\n",
    "        Carbohidratos = tabla.find_all(\"div\", class_=\"smallText greyText greyLink\")\n",
    "        Carbohidrato = []\n",
    "        for caracter in Carbohidratos:\n",
    "            carbohidratos_texto = caracter.text.replace(\"\\r\", \"\").replace(\"\\n\", \"\").replace(\"\\t\", \"\")\n",
    "            carbohidratos_texto = carbohidratos_texto.split(\"|\", 2)[-1].split(\"|\")[0].strip().replace(\"Carbh:\", \"\")\n",
    "            Carbohidrato.append(carbohidratos_texto.strip())\n",
    "        # Encontrar las Proteinas\n",
    "        Proteinas = tabla.find_all(\"div\", class_=\"smallText greyText greyLink\")\n",
    "        Proteina = []\n",
    "        for caracter in Proteinas:\n",
    "            proteinas_texto = caracter.text.replace(\"\\r\", \"\").replace(\"\\n\", \"\").replace(\"\\t\", \"\")\n",
    "            proteinas_texto = proteinas_texto.split(\"|\", 3)[-1].split(\"|\")[0].strip().replace(\"Prot:\", \"\")\n",
    "            proteinas_texto = proteinas_texto.split(\"g\", 1)[0] + \"g\"\n",
    "            Proteina.append(proteinas_texto.strip())\n",
    "        \n",
    "        \n",
    "        if not Tabla_Nutricional_Productos.empty:\n",
    "            columnas = [\"Producto\",\"Marca\",\"Cantidad\",\"Caloria\",\"Grasa\",\"Carbohidrato\",\"Proteina\"]\n",
    "            data_ = list(zip(Producto, Marca, Cantidad, Caloria, Grasa, Carbohidrato, Proteina))\n",
    "            df = pd.DataFrame(columns=columnas,data=data_)\n",
    "            Tabla_Nutricional_Productos = pd.concat([Tabla_Nutricional_Productos,df],ignore_index=True)\n",
    "        else:\n",
    "            columnas = [\"Producto\",\"Marca\",\"Cantidad\",\"Caloria\",\"Grasa\",\"Carbohidrato\",\"Proteina\"]\n",
    "            data_ = list(zip(Producto, Marca, Cantidad, Caloria, Grasa, Carbohidrato, Proteina))\n",
    "            Tabla_Nutricional_Productos = pd.DataFrame(columns= columnas,data=data_)\n",
    "            \n",
    "    return Tabla_Nutricional_Productos"
   ]
  },
  {
   "cell_type": "code",
   "execution_count": null,
   "metadata": {},
   "outputs": [],
   "source": [
    "Scraper(\"https://www.fatsecret.com.ar/calor%C3%ADas-nutrici%C3%B3n/search?q=Leche+Entera&pg=6\")"
   ]
  },
  {
   "cell_type": "code",
   "execution_count": null,
   "metadata": {},
   "outputs": [],
   "source": [
    "fallo = \"https://www.fatsecret.com.ar/calor%C3%ADas-nutrici%C3%B3n/search?q=Aceite&pg=6\"\n",
    "fallor = requests.get(fallo).text\n",
    "falloSoup = BeautifulSoup(fallor)"
   ]
  },
  {
   "cell_type": "code",
   "execution_count": null,
   "metadata": {},
   "outputs": [],
   "source": [
    "fallo1 = falloSoup.find(\"div\",class_=\"searchNoResult\")\n",
    "print(fallo1)"
   ]
  },
  {
   "cell_type": "code",
   "execution_count": null,
   "metadata": {},
   "outputs": [],
   "source": [
    "import requests\n",
    "import pandas as pd\n",
    "from bs4 import BeautifulSoup, Tag\n",
    "\n",
    "\n",
    "\n",
    "def Scraper_v3():\n",
    "    elementos = [\"Aceite\",\"Vinagre\",\"Pasta\",\"Arroz\",\"Legumbre\",\"Semilla\",\"Harina\",\"Premezcla+salada\",\"Polenta\",\"Avena\",\"Atun\",\"Caballa\",\"Paté\",\"Anchoa\",\"Salsa+de+tomate\",\"Salsa\",\"Choclo\",\"Arvejas\",\"Lenteja\",\"Poroto\",\"Garbanzos\",\"Chaucha\",\"Palmitos\",\"Frijoles\",\"Aceitunas\",\"Caldos\",\"Sopas\",\"Purés+instantaneos\",\"Premezclas\",\"Coberturas\",\"Rellenos\",\"Gelatinas\",\"Postres\",\"Dulce+de+Leche\",\"Nutella\",\"Mermeladas\",\"Papas+fritas\",\"Snacks de maiz\",\"Nachos\",\"Maní\",\"Palitos\",\"Galletitas dulces\",\"Bizcochitos\",\"Galletitas de agua\",\"Galletas de arroz\",\"Tostadas\",\"Grisines\",\"Budines\",\"Magdalenas\",\"Yerba\",\"Café\",\"Té\",\"Mate Cocido\",\"Cacao\",\"Azúcar\",\"Edulcorantes\",\"Endulzantes\",\"Cereales\",\"Barritas de cereales\",\"Granola\",\"Chocolates\",\"Alfajores\",\"Caramelos\",\"Gomitas\",\"Chupetines\",\"Bocaditos\",\"Confites\",\"Turrones\",\"Leche entera\",\"Leche descremada\",\"Leche vegetal\",\"Leche en polvo\",\"Yogures enteros\",\"Yogures descremados\",\"Manteca\",\"Levadura\",\"Cremas de leche\",\"Huevos\",\"Tapas\",\"Dulce de membrillo\",\"Dulce de batata\",\"Salchichas\",\"Quesos\",\"Fiambres\",\"Carne vacuna\",\"Pollo\",\"Carne de cerdo\",\"Anchuras\",\"embutidos\",\"Pescados\",\"Mariscos\",\"Frutas\",\"Verduras\",\"Frutos secos\",\"Pan\",\"Pan rallado\",\"Nuggets congeladas\",\"Papas congeladas\",\"Helado\"]\n",
    "    for i in range(len(elementos)):\n",
    "        if \" \" in elementos[i]:\n",
    "            elementos[i] = elementos[i].replace(\" \", \"+\")\n",
    "    ñomis = []\n",
    "    for e in elementos:\n",
    "        ñomis.append(f\"https://www.fatsecret.com.ar/calor%C3%ADas-nutrici%C3%B3n/search?q={e}\")\n",
    "    Tabla_Nutricional_Productos = pd.DataFrame()\n",
    "    for url in ñomis:\n",
    "        page = requests.get(url)\n",
    "        soup = BeautifulSoup(page.content, \"html.parser\")\n",
    "        tabla_busqueda = soup.find(\"div\",class_=\"searchResultsPaging\")\n",
    "        if tabla_busqueda is not None:\n",
    "            res = tabla_busqueda.find_all(\"a\")\n",
    "            res = [tag.text if isinstance(tag, Tag) else tag for tag in res]\n",
    "            if \"Siguiente\" in res:\n",
    "                res.remove(\"Siguiente\")\n",
    "            res_int = [int(val) for val in res]\n",
    "            max_pag = max(res_int)\n",
    "            link = url + f\"&pg={max_pag}\"\n",
    "            url = link\n",
    "            page = requests.get(url).text\n",
    "            pageSoup = BeautifulSoup(page, \"html.parser\")\n",
    "            \n",
    "            tabla = pageSoup.find(\"td\", class_=\"leftCell\")\n",
    "            # Encontrar todos los Nombres de Productos\n",
    "            Productos = tabla.find_all(\"a\",class_=\"prominent\")\n",
    "            Producto = []\n",
    "            for caracter in Productos:\n",
    "                Producto.append(caracter.text)\n",
    "            Marcas = tabla.find_all(\"a\",class_=\"brand\")\n",
    "            Marca = []\n",
    "            for caracter in Marcas:\n",
    "                marca_texto = caracter.text.replace(\"(\", \"\").replace(\")\", \"\")\n",
    "                Marca.append(marca_texto)\n",
    "\n",
    "            # Check if there are as many brands as products\n",
    "            if len(Marca) < len(Producto):\n",
    "                #Append None for missing brands\n",
    "                Marca += [None] * (len(Producto) - len(Marca))\n",
    "            # Encontrar las cantidades\n",
    "            Cantidades = tabla.find_all(\"div\",class_=\"smallText greyText greyLink\")\n",
    "            Cantidad = []\n",
    "            for caracter in Cantidades:\n",
    "                cantidad_texto = caracter.text.replace(\"\\r\", \"\").replace(\"\\n\", \"\").replace(\"\\t\", \"\")\n",
    "                cantidad_texto = cantidad_texto.split(\"-\", 1)[0]\n",
    "                Cantidad.append(cantidad_texto)\n",
    "            # Encontrar las Calorias\n",
    "            Calorias = tabla.find_all(\"div\", class_=\"smallText greyText greyLink\")\n",
    "            Caloria = []\n",
    "            for caracter in Calorias:\n",
    "                calorias_texto = caracter.text.replace(\"\\r\", \"\").replace(\"\\n\", \"\").replace(\"\\t\", \"\")\n",
    "                calorias_texto = calorias_texto.split(\"-\", 1)[-1].split(\"|\")[0].strip().replace(\"Calorías:\", \"\")\n",
    "                Caloria.append(calorias_texto.strip())\n",
    "            # Encontrar las Grasas\n",
    "            Grasas = tabla.find_all(\"div\", class_=\"smallText greyText greyLink\")\n",
    "            Grasa = []\n",
    "            for caracter in Grasas:\n",
    "                grasas_texto = caracter.text.replace(\"\\r\", \"\").replace(\"\\n\", \"\").replace(\"\\t\", \"\")\n",
    "                grasas_texto = grasas_texto.split(\"|\", 1)[-1].split(\"|\")[0].strip().replace(\"Grasa:\", \"\")\n",
    "                Grasa.append(grasas_texto.strip())\n",
    "            # Encontrar los Carbohidratos\n",
    "            Carbohidratos = tabla.find_all(\"div\", class_=\"smallText greyText greyLink\")\n",
    "            Carbohidrato = []\n",
    "            for caracter in Carbohidratos:\n",
    "                carbohidratos_texto = caracter.text.replace(\"\\r\", \"\").replace(\"\\n\", \"\").replace(\"\\t\", \"\")\n",
    "                carbohidratos_texto = carbohidratos_texto.split(\"|\", 2)[-1].split(\"|\")[0].strip().replace(\"Carbh:\", \"\")\n",
    "                Carbohidrato.append(carbohidratos_texto.strip())\n",
    "            # Encontrar las Proteinas\n",
    "            Proteinas = tabla.find_all(\"div\", class_=\"smallText greyText greyLink\")\n",
    "            Proteina = []\n",
    "            for caracter in Proteinas:\n",
    "                proteinas_texto = caracter.text.replace(\"\\r\", \"\").replace(\"\\n\", \"\").replace(\"\\t\", \"\")\n",
    "                proteinas_texto = proteinas_texto.split(\"|\", 3)[-1].split(\"|\")[0].strip().replace(\"Prot:\", \"\")\n",
    "                proteinas_texto = proteinas_texto.split(\"g\", 1)[0] + \"g\"\n",
    "                Proteina.append(proteinas_texto.strip())\n",
    "        \n",
    "        \n",
    "            if not Tabla_Nutricional_Productos.empty:\n",
    "                columnas = [\"Producto\",\"Marca\",\"Cantidad\",\"Caloria\",\"Grasa\",\"Carbohidrato\",\"Proteina\"]\n",
    "                data_ = list(zip(Producto, Marca, Cantidad, Caloria, Grasa, Carbohidrato, Proteina))\n",
    "                df = pd.DataFrame(columns=columnas,data=data_)\n",
    "                Tabla_Nutricional_Productos = pd.concat([Tabla_Nutricional_Productos,df],ignore_index=True)\n",
    "            else:\n",
    "                columnas = [\"Producto\",\"Marca\",\"Cantidad\",\"Caloria\",\"Grasa\",\"Carbohidrato\",\"Proteina\"]\n",
    "                data_ = list(zip(Producto, Marca, Cantidad, Caloria, Grasa, Carbohidrato, Proteina))\n",
    "                Tabla_Nutricional_Productos = pd.DataFrame(columns= columnas,data=data_)\n",
    "            \n",
    "    return Tabla_Nutricional_Productos.to_csv(\"TablaNutricinal.csv\")\n",
    "\n",
    "\n",
    "\n",
    "    \n",
    "    \n",
    "    "
   ]
  },
  {
   "cell_type": "code",
   "execution_count": null,
   "metadata": {},
   "outputs": [],
   "source": [
    "Scraper_v3()"
   ]
  },
  {
   "cell_type": "code",
   "execution_count": null,
   "metadata": {},
   "outputs": [],
   "source": [
    "#vtex-menu-2-x-menuItem vtex-menu-2-x-menuItem--MenuCategoryThirdItem list vtex-menu-2-x-menuItem vtex-menu-2-x-menuItem--MenuCategoryThirdItem vtex-menu-2-x-menuItem--isClosed vtex-menu-2-x-menuItem\n",
    "#--MenuCategoryThirdItem--isClosed"
   ]
  },
  {
   "cell_type": "code",
   "execution_count": null,
   "metadata": {},
   "outputs": [],
   "source": [
    "#vtex-menu-2-x-menuItem vtex-menu-2-x-menuItem--MenuCategoryThirdItem list vtex-menu-2-x-menuItem vtex-menu-2-x-menuItem--MenuCategoryThirdItem vtex-menu-2-x-menuItem--isClosed vtex-menu-2-x-menuItem\n",
    "#--MenuCategoryThirdItem--isClosed"
   ]
  },
  {
   "cell_type": "code",
   "execution_count": 80,
   "metadata": {},
   "outputs": [],
   "source": [
    "carre = \"https://www.carrefour.com.ar/\"\n",
    "\n",
    "four = requests.get(carre).text\n",
    "\n",
    "carrefour = BeautifulSoup(four)"
   ]
  },
  {
   "cell_type": "code",
   "execution_count": null,
   "metadata": {},
   "outputs": [],
   "source": [
    "carrefour.prettify"
   ]
  },
  {
   "cell_type": "code",
   "execution_count": 126,
   "metadata": {},
   "outputs": [],
   "source": [
    "body = carrefour.find(\"body\",class_=\"bg-base\")"
   ]
  },
  {
   "cell_type": "code",
   "execution_count": 127,
   "metadata": {},
   "outputs": [],
   "source": [
    "body.find(\"div\",class_=\"vtex-store-drawer-0-x-overlay vtex-store-drawer-0-x-overlay--menuCategoryMobile bg-base--inverted z-999 fixed top-0 bottom-0 left-0 right-0\")"
   ]
  },
  {
   "cell_type": "code",
   "execution_count": 128,
   "metadata": {},
   "outputs": [],
   "source": [
    "one = body.find(\"div\",class_=\"render-container render-route-store-home\")"
   ]
  },
  {
   "cell_type": "code",
   "execution_count": 132,
   "metadata": {},
   "outputs": [],
   "source": [
    "one.find(\"div\",class_=\"vtex-store-drawer-0-x-drawer vtex-store-drawer-0-x-drawer--menuCategoryMobile vtex-store-drawer-0-x-opened vtex-store-drawer-0-x-opened--menuCategoryMobile  left-0 fixed top-0 bottom-0 bg-base z-999 flex flex-column\")"
   ]
  },
  {
   "cell_type": "code",
   "execution_count": 133,
   "metadata": {},
   "outputs": [
    {
     "data": {
      "text/plain": [
       "<div class=\"render-container render-route-store-home\"><div class=\"render-provider\"><div class=\"vtex-store__template bg-base\"><div class=\"flex flex-column min-vh-100 w-100\"><div class=\"lyracons-content-visibility-0-x-contentHide\"> <!-- --> </div><div class=\"lyracons-content-visibility-0-x-contentHide lyracons-content-visibility-0-x-contentHide--visibilityNavBar\"> <!-- --> </div><div class=\"vtex-store-header-2-x-headerStickyRow vtex-store-header-2-x-headerStickyRow--topBar\"><div class=\"vtex-store-header-2-x-headerRow vtex-store-header-2-x-headerRow--topBar\"><div class=\"vtex-store-header-2-x-headerRowBackground vtex-store-header-2-x-headerRowBackground--topBar w-100 bg-base c-on-base\"><div class=\"vtex-store-header-2-x-headerRowContainer vtex-store-header-2-x-headerRowContainer--topBar w-100 flex items-center\"><div class=\"vtex-store-header-2-x-headerSpacer flex flex-grow-1\"></div><nav class=\"vtex-menu-2-x-menuContainerNav vtex-menu-2-x-menuContainerNav--menuCustom\"><ul class=\"vtex-menu-2-x-menuContainer vtex-menu-2-x-menuContainer--menuCustom list flex pl0 mv0 flex-row\"><div class=\"lyracons-content-visibility-0-x-contentShow\"><div class=\"vtex-flex-layout-0-x-flexRow\"><section class=\"vtex-store-components-3-x-container ph3 ph5-m ph2-xl mw9 center\"><div class=\"flex mt0 mb0 pt0 pb0 justify-start vtex-flex-layout-0-x-flexRowContent items-stretch w-100\"><div class=\"pr0 items-stretch vtex-flex-layout-0-x-stretchChildrenWidth flex\" style=\"width:14%\"><li class=\"vtex-menu-2-x-menuItem list vtex-menu-2-x-menuItem vtex-menu-2-x-menuItem--isClosed\"><div class=\"vtex-menu-2-x-styledLinkContainer mh6 pv5\"><a class=\"vtex-menu-2-x-styledLink no-underline pointer t-body c-on-base pointer\" href=\"/como-comprar\" id=\"menu-item-howToBuy\" title=\"Cómo comprar\"><div class=\"vtex-menu-2-x-styledLinkContent flex justify-between nowrap\"><span class=\"vtex-menu-2-x-styledLinkIcon mh2\" data-testid=\"icon-left\"><svg class=\"\" fill=\"none\" height=\"20\" viewbox=\"0 0 18 15\" width=\"20\" xmlns=\"http://www.w3.org/2000/svg\" xmlns:xlink=\"http://www.w3.org/1999/xlink\"><use href=\"#inf-comoComprar\" xlink:href=\"#inf-comoComprar\"></use></svg></span>Cómo comprar</div></a></div></li></div><div class=\"pr0 items-stretch vtex-flex-layout-0-x-stretchChildrenWidth flex\" style=\"width:14%\"><li class=\"vtex-menu-2-x-menuItem list vtex-menu-2-x-menuItem vtex-menu-2-x-menuItem--isClosed\"><div class=\"vtex-menu-2-x-styledLinkContainer mh6 pv5\"><a class=\"vtex-menu-2-x-styledLink no-underline pointer t-body c-on-base pointer\" href=\"/promociones\" id=\"menu-item-promotions\" title=\"Promociones\"><div class=\"vtex-menu-2-x-styledLinkContent flex justify-between nowrap\"><span class=\"vtex-menu-2-x-styledLinkIcon mh2\" data-testid=\"icon-left\"><svg class=\"\" fill=\"none\" height=\"20\" viewbox=\"0 0 20 15\" width=\"20\" xmlns=\"http://www.w3.org/2000/svg\" xmlns:xlink=\"http://www.w3.org/1999/xlink\"><use href=\"#inf-promociones\" xlink:href=\"#inf-promociones\"></use></svg></span>Promociones</div></a></div></li></div><div class=\"pr0 items-stretch vtex-flex-layout-0-x-stretchChildrenWidth flex\" style=\"width:14%\"><li class=\"vtex-menu-2-x-menuItem list vtex-menu-2-x-menuItem vtex-menu-2-x-menuItem--isClosed\"><div class=\"vtex-menu-2-x-styledLinkContainer mh6 pv5\"><a class=\"vtex-menu-2-x-styledLink no-underline pointer t-body c-on-base pointer\" href=\"/folletos\" id=\"menu-item-brochures\" title=\"Folletos\"><div class=\"vtex-menu-2-x-styledLinkContent flex justify-between nowrap\"><span class=\"vtex-menu-2-x-styledLinkIcon mh2\" data-testid=\"icon-left\"><svg class=\"\" fill=\"none\" height=\"20\" viewbox=\"0 0 20 16\" width=\"20\" xmlns=\"http://www.w3.org/2000/svg\" xmlns:xlink=\"http://www.w3.org/1999/xlink\"><use href=\"#inf-folletos\" xlink:href=\"#inf-folletos\"></use></svg></span>Folletos</div></a></div></li></div><div class=\"pr0 items-stretch vtex-flex-layout-0-x-stretchChildrenWidth flex\" style=\"width:14%\"><li class=\"vtex-menu-2-x-menuItem list vtex-menu-2-x-menuItem vtex-menu-2-x-menuItem--isClosed\"><div class=\"vtex-menu-2-x-styledLinkContainer mh6 pv5\"><a class=\"vtex-menu-2-x-styledLink no-underline pointer t-body c-on-base pointer\" href=\"/sucursales\" id=\"menu-item-branchOffices\" title=\"Sucursales\"><div class=\"vtex-menu-2-x-styledLinkContent flex justify-between nowrap\"><span class=\"vtex-menu-2-x-styledLinkIcon mh2\" data-testid=\"icon-left\"><svg class=\"\" fill=\"none\" height=\"20\" viewbox=\"0 0 20 14\" width=\"20\" xmlns=\"http://www.w3.org/2000/svg\" xmlns:xlink=\"http://www.w3.org/1999/xlink\"><use href=\"#inf-sucursales\" xlink:href=\"#inf-sucursales\"></use></svg></span>Sucursales</div></a></div></li></div><div class=\"pr0 items-stretch vtex-flex-layout-0-x-stretchChildrenWidth flex\" style=\"width:14%\"><li class=\"vtex-menu-2-x-menuItem list vtex-menu-2-x-menuItem vtex-menu-2-x-menuItem--isClosed\"><div class=\"vtex-menu-2-x-styledLinkContainer mh6 pv5\"><a class=\"vtex-menu-2-x-styledLink no-underline pointer t-body c-on-base pointer\" href=\"https://www.bancodeserviciosfinancieros.com.ar/\" id=\"menu-item-carrefourCard\" title=\"Tarjeta Carrefour\"><div class=\"vtex-menu-2-x-styledLinkContent flex justify-between nowrap\"><span class=\"vtex-menu-2-x-styledLinkIcon mh2\" data-testid=\"icon-left\"><svg class=\"\" fill=\"none\" height=\"20\" viewbox=\"0 0 20 10\" width=\"20\" xmlns=\"http://www.w3.org/2000/svg\" xmlns:xlink=\"http://www.w3.org/1999/xlink\"><use href=\"#inf-tarjetaCarrefour\" xlink:href=\"#inf-tarjetaCarrefour\"></use></svg></span>Tarjeta Carrefour</div></a></div></li></div><div class=\"pr0 items-stretch vtex-flex-layout-0-x-stretchChildrenWidth flex\" style=\"width:14%\"><li class=\"vtex-menu-2-x-menuItem list vtex-menu-2-x-menuItem vtex-menu-2-x-menuItem--isClosed\"><div class=\"vtex-menu-2-x-styledLinkContainer mh6 pv5\"><a class=\"vtex-menu-2-x-styledLink no-underline pointer t-body c-on-base pointer\" href=\"https://www.micarrefour.com.ar/?_ga=2.133570766.1746496148.1668428414-1705640802.1668107776\" id=\"menu-item-mic\" title=\"Mi Carrefour\"><div class=\"vtex-menu-2-x-styledLinkContent flex justify-between nowrap\"><span class=\"vtex-menu-2-x-styledLinkIcon mh2\" data-testid=\"icon-left\"><svg class=\"\" fill=\"none\" height=\"20\" viewbox=\"0 0 20 10\" width=\"20\" xmlns=\"http://www.w3.org/2000/svg\" xmlns:xlink=\"http://www.w3.org/1999/xlink\"><use href=\"#inf-miCarrefour\" xlink:href=\"#inf-miCarrefour\"></use></svg></span>Mi Carrefour</div></a></div></li></div><div class=\"pr0 items-stretch vtex-flex-layout-0-x-stretchChildrenWidth flex\" style=\"width:14%\"></div></div></section></div></div><div class=\"lyracons-content-visibility-0-x-contentHide\"> <!-- --> </div></ul></nav></div></div></div></div><div class=\"vtex-store-header-2-x-headerStickyRow\"><div class=\"vtex-store-header-2-x-headerBorder bb b--muted-3\"></div></div><div class=\"vtex-store-header-2-x-headerStickyRow sticky z-999\" style=\"top:0\"><div class=\"vtex-store-header-2-x-headerRow\"><div class=\"vtex-store-header-2-x-headerRowBackground w-100 bg-base c-on-base\"><div class=\"vtex-store-header-2-x-headerRowContainer w-100 flex items-center\"><div aria-hidden=\"true\" class=\"pa4 pointer vtex-store-drawer-0-x-openIconContainer vtex-store-drawer-0-x-openIconContainer--menuCategory\" role=\"presentation\"><div class=\"vtex-store-drawer-0-x-drawerTriggerContainer vtex-store-drawer-0-x-drawerTriggerContainer--menuIconDrawer\" role=\"button\" tabindex=\"0\"><svg class=\"\" fill=\"none\" height=\"27\" viewbox=\"0 0 16 16\" width=\"27\" xmlns=\"http://www.w3.org/2000/svg\" xmlns:xlink=\"http://www.w3.org/1999/xlink\"><use href=\"#hpa-hamburguer-menu\" xlink:href=\"#hpa-hamburguer-menu\"></use></svg></div></div><a class=\"vtex-store-components-3-x-logoLink\" href=\"/\"><span class=\"store-logo vtex-store-components-3-x-logoContainer vtex-store-components-3-x-sizeDesktop pv4 ph6\"><img alt=\"Logo\" class=\"lazyload vtex-store-components-3-x-logoImage vtex-render-runtime-8-x-lazyload\" crossorigin=\"anonymous\" data-src=\"https://carrefourar.vtexassets.com/assets/vtex/assets-builder/carrefourar.theme/56.0.0/logo/logo___8ebc4231614a7b41a4258354ce76e1e1.svg\" loading=\"lazy\" width=\"162\"/></span></a><div class=\"vtex-store-header-2-x-headerSpacer flex flex-grow-1\"></div><div class=\"w-100 mw7 pv4 vtex-store-components-3-x-searchBarContainer\" style=\"max-width:740px\"><div class=\"vtex-store-components-3-x-autoCompleteOuterContainer\"><div class=\"w-100 flex\"><label class=\"vtex-input w-100\"><div class=\"vtex-input-prefix__group flex flex-row items-stretch overflow-hidden br2 bw1 b--solid b--muted-4 hover-b--muted-3 h-large\"><input class=\"vtex-styleguide-9-x-input ma0 border-box vtex-styleguide-9-x-hideDecorators vtex-styleguide-9-x-noAppearance br2 br-0 br--left w-100 bn outline-0 bg-base c-on-base b--muted-4 hover-b--muted-3 t-body pl5\" placeholder=\"¿Qué estás buscando?\" type=\"text\"/><span class=\"c-muted-2 fw5 flex items-center t-body bg-base vtex-input__suffix br2 bl-0 br--right pr5 pl4\"><div class=\"vtex-store-components-3-x-suffixWrapper flex h-100\"><button class=\"vtex-store-components-3-x-searchBarIcon vtex-store-components-3-x-searchBarIcon--search flex items-center pointer bn bg-transparent outline-0 pv0 pl0 pr3\"><svg class=\"vtex-store-components-3-x-searchIcon\" fill=\"none\" height=\"16\" viewbox=\"0 0 16 16\" width=\"16\" xmlns=\"http://www.w3.org/2000/svg\" xmlns:xlink=\"http://www.w3.org/1999/xlink\"><use href=\"#hpa-search\" xlink:href=\"#hpa-search\"></use></svg></button></div></span></div></label></div></div></div><div class=\"vtex-store-header-2-x-headerSpacer flex flex-grow-1\"></div><div class=\"lyracons-content-visibility-0-x-contentShow\"><a class=\"vtex-store-link-0-x-link vtex-store-link-0-x-link--wishlistLinkContainer\" href=\"#\"><div class=\"vtex-store-link-0-x-childrenContainer vtex-store-link-0-x-childrenContainer--wishlistLinkContainer\"><div class=\"vtex-rich-text-0-x-container vtex-rich-text-0-x-container--wishlistLink flex tl items-start justify-start t-body c-on-base\"><div class=\"vtex-rich-text-0-x-wrapper vtex-rich-text-0-x-wrapper--wishlistLink\"></div></div><div class=\"vtex-rich-text-0-x-container vtex-rich-text-0-x-container--wishlistLinkWord flex tl items-center justify-center t-body c-on-base\"><div class=\"vtex-rich-text-0-x-wrapper vtex-rich-text-0-x-wrapper--wishlistLinkWord\"><p class=\"lh-copy vtex-rich-text-0-x-paragraph vtex-rich-text-0-x-paragraph--wishlistLinkWord\">Favoritos</p></div></div></div></a></div><div class=\"lyracons-content-visibility-0-x-contentShow\"><div class=\"lyracons-region-locator-2-x-myAccountWrapper c-action-secondary\"><div><div class=\"lyracons-region-locator-2-x-myAccountWrapperLink flex items-center w-100 flex-column\"><div><div class=\"no-underline\" style=\"max-width:28\"><svg height=\"28\" viewbox=\"0 0 28 28\" width=\"28\" xmlns=\"http://www.w3.org/2000/svg\"><path d=\"M14,17.8c4.14-0.04,7.47-3.43,7.44-7.57V8.18c0.07-4.11-3.2-7.5-7.31-7.58 s-7.5,3.2-7.58,7.31c0,0.09,0,0.18,0,0.27v2.05C6.53,14.37,9.86,17.76,14,17.8L14,17.8z M8.58,8.18c-0.06-3,2.31-5.48,5.31-5.54 c3-0.06,5.48,2.31,5.54,5.31c0,0.08,0,0.15,0,0.23v2.05c0.06,3-2.31,5.48-5.31,5.54c-3,0.06-5.48-2.31-5.54-5.31 c0-0.08,0-0.15,0-0.23V8.18z M25.29,26.12c-0.83-3.82-3.71-6.48-7.01-6.48H9.73c-3.3,0-6.18,2.66-7.01,6.48 c-0.09,0.36,0.02,0.75,0.29,1c0.27,0.26,0.65,0.34,1,0.22c0.35-0.12,0.61-0.42,0.68-0.79c0.34-2.6,2.43-4.62,5.04-4.87h8.55 c2.61,0.24,4.71,2.27,5.04,4.87c0.11,0.55,0.64,0.9,1.19,0.78c0,0,0.01,0,0.01,0C25.07,27.21,25.41,26.67,25.29,26.12L25.29,26.12z\" fill=\"#2088E2\"></path></svg></div></div><div class=\"lyracons-region-locator-2-x-myAccountWrapperWord\"><p class=\"ma0 near-black\">Ingresar</p></div></div></div></div></div><div class=\"vtex-store-header-2-x-headerStickyRow vtex-store-header-2-x-headerStickyRow--carritoContainer\"><div class=\"vtex-store-header-2-x-headerRow vtex-store-header-2-x-headerRow--carritoContainer\"><div class=\"vtex-store-header-2-x-headerRowBackground vtex-store-header-2-x-headerRowBackground--carritoContainer w-100 bg-base c-on-base\"><section class=\"vtex-store-components-3-x-container ph3 ph5-m ph2-xl mw9 center vtex-store-header-2-x-headerRowContentContainer vtex-store-header-2-x-headerRowContentContainer--carritoContainer w-100 flex\"><div class=\"vtex-store-header-2-x-headerRowContainer vtex-store-header-2-x-headerRowContainer--carritoContainer w-100 flex items-center\"><aside class=\"vtex-minicart-2-x-minicartWrapperContainer relative fr flex items-center\"><div class=\"vtex-minicart-2-x-minicartContainer flex flex-column\"><div aria-hidden=\"true\" class=\"pa4 pointer vtex-minicart-2-x-openIconContainer\" role=\"presentation\"><button class=\"vtex-button bw1 ba fw5 v-mid relative pa0 lh-solid br2 min-h-regular t-action icon-button dib bg-transparent b--transparent c-action-primary hover-b--transparent hover-bg-action-secondary hover-b--action-secondary pointer\" style=\"font-size:0\" tabindex=\"0\" type=\"button\"><div class=\"vtex-button__label flex items-center justify-center h-100 ph4\" style=\"padding-top:.25em;padding-bottom:.32em\"><span class=\"vtex-minicart-2-x-minicartIconContainer gray relative\"><svg class=\"vtex-store-icons-0-x-cartIcon\" fill=\"none\" height=\"31\" viewbox=\"0 0 16 16\" width=\"31\" xmlns=\"http://www.w3.org/2000/svg\" xmlns:xlink=\"http://www.w3.org/1999/xlink\"><use href=\"#hpa-cart\" xlink:href=\"#hpa-cart\"></use></svg></span></div></button></div></div></aside><div class=\"vtex-rich-text-0-x-container vtex-rich-text-0-x-container--carritoWord flex tl items-center justify-center t-body c-on-base\"><div class=\"vtex-rich-text-0-x-wrapper vtex-rich-text-0-x-wrapper--carritoWord\"><p class=\"lh-copy vtex-rich-text-0-x-paragraph vtex-rich-text-0-x-paragraph--carritoWord\">Carrito</p></div></div></div></section></div></div></div></div></div></div><div></div></div><div style=\"opacity:1;position:unset;width:unset\"><div class=\"flex flex-grow-1 w-100 flex-column\"><div class=\"\"><div class=\"lyracons-content-visibility-0-x-contentShow lyracons-content-visibility-0-x-contentShow--contentTabsHome\"><div class=\"vtex-tab-layout-0-x-container vtex-tab-layout-0-x-container--contentTabsHome\"><div class=\"vtex-tab-layout-0-x-listContainer flex w-100 flex-wrap justify-center\"><div class=\"vtex-tab-layout-0-x-listItem vtex-tab-layout-0-x-listItem--tabLeft vtex-tab-layout-0-x-listItemActive vtex-tab-layout-0-x-listItemActive--tabLeft ph2 pv2 ma2\"><button class=\"vtex-button bw1 ba fw5 v-mid relative pa0 lh-solid br2 min-h-regular t-action bg-action-primary b--action-primary c-on-action-primary hover-bg-action-primary hover-b--action-primary hover-c-on-action-primary pointer\" tabindex=\"0\" type=\"button\"><div class=\"vtex-button__label flex items-center justify-center h-100 ph6\" style=\"padding-top:.25em;padding-bottom:.32em\">Promociones Online</div></button></div><div class=\"vtex-tab-layout-0-x-listItem vtex-tab-layout-0-x-listItem--tabMiddle ph2 pv2 ma2\"><button class=\"vtex-button bw1 ba fw5 v-mid relative pa0 lh-solid br2 min-h-regular t-action bg-transparent b--transparent c-action-primary hover-b--transparent hover-bg-action-secondary hover-b--action-secondary pointer\" tabindex=\"0\" type=\"button\"><div class=\"vtex-button__label flex items-center justify-center h-100 ph6\" style=\"padding-top:.25em;padding-bottom:.32em\">Hogar &amp; Electro</div></button></div><div class=\"vtex-tab-layout-0-x-listItem vtex-tab-layout-0-x-listItem--tabRight ph2 pv2 ma2\"><button class=\"vtex-button bw1 ba fw5 v-mid relative pa0 lh-solid br2 min-h-regular t-action bg-transparent b--transparent c-action-primary hover-b--transparent hover-bg-action-secondary hover-b--action-secondary pointer\" tabindex=\"0\" type=\"button\"><div class=\"vtex-button__label flex items-center justify-center h-100 ph6\" style=\"padding-top:.25em;padding-bottom:.32em\">Servicios Carrefour</div></button></div></div><div class=\"vtex-tab-layout-0-x-contentContainer w-100\"><div class=\"vtex-tab-layout-0-x-contentItem vtex-tab-layout-0-x-contentItem--tabContentLeft w-100\"><div class=\"lyracons-content-visibility-0-x-contentShow lyracons-content-visibility-0-x-contentShow--contentSeparatorTabsHome\"><div class=\"vtex-flex-layout-0-x-flexRow vtex-flex-layout-0-x-flexRow--rowSeparatorTabs\"><section class=\"vtex-store-components-3-x-container ph3 ph5-m ph2-xl mw9 center\"><div class=\"flex mt0 mb0 pt0 pb0 justify-start vtex-flex-layout-0-x-flexRowContent vtex-flex-layout-0-x-flexRowContent--rowSeparatorTabs items-stretch w-100\"></div></section></div></div><div class=\"lyracons-content-visibility-0-x-contentShow\"><section aria-label=\"slider\" class=\"w-100 flex items-center relative vtex-slider-layout-0-x-sliderLayoutContainer vtex-slider-layout-0-x-sliderLayoutContainer--carousel\"><div class=\"w-100 vtex-slider-layout-0-x-sliderTrackContainer vtex-slider-layout-0-x-sliderTrackContainer--carousel overflow-hidden\"><div aria-atomic=\"false\" aria-live=\"polite\" class=\"vtex-slider-layout-0-x-sliderTrack vtex-slider-layout-0-x-sliderTrack--carousel flex justify-around relative pa0 ma0\" data-testid=\"slider-track\" style=\"transform:translate3d(-10%, 0, 0);width:1000%\"><div aria-hidden=\"true\" class=\"vtex-slider-layout-0-x-slide vtex-slider-layout-0-x-slide--carousel vtex-slider-layout-0-x-slide--firstVisible vtex-slider-layout-0-x-slide--carousel--firstVisible vtex-slider-layout-0-x-slide--hidden vtex-slider-layout-0-x-slide--carousel--hidden flex relative\" role=\"none presentation\" style=\"width:10%\"><div class=\"vtex-slider-layout-0-x-slideChildrenContainer vtex-slider-layout-0-x-slideChildrenContainer--carousel flex justify-center items-center w-100\"></div></div><div aria-hidden=\"false\" aria-label=\"1 of 8\" aria-roledescription=\"slide\" class=\"vtex-slider-layout-0-x-slide vtex-slider-layout-0-x-slide--carousel vtex-slider-layout-0-x-slide--firstVisible vtex-slider-layout-0-x-slide--carousel--firstVisible vtex-slider-layout-0-x-slide--visible vtex-slider-layout-0-x-slide--carousel--visible flex relative\" data-index=\"1\" role=\"group\" style=\"width:10%\"><div class=\"vtex-slider-layout-0-x-slideChildrenContainer vtex-slider-layout-0-x-slideChildrenContainer--carousel flex justify-center items-center w-100\"><a class=\"vtex-slider-layout-0-x-imageElementLink vtex-slider-layout-0-x-imageElementLink--carousel vtex-store-components-3-x-imageElementLink vtex-store-components-3-x-imageElementLink--carousel\" href=\"/8746?map=productClusterIds\" rel=\"\" title=\"\"><img alt=\"\" class=\"vtex-slider-layout-0-x-imageElement vtex-slider-layout-0-x-imageElement--carousel vtex-store-components-3-x-imageElement vtex-store-components-3-x-imageElement--carousel\" crossorigin=\"anonymous\" data-vtex-preload=\"true\" loading=\"eager\" sizes=\"\" src=\"https://carrefourar.vtexassets.com/assets/vtex.file-manager-graphql/images/4e249df8-413b-432c-8be0-828636892090___cc1828a00b0c93f8af6641bae632dd0f.png\" srcset=\"\" style=\"max-height:420px;width:100%\" title=\"\"/></a></div></div><div aria-hidden=\"true\" aria-label=\"2 of 8\" aria-roledescription=\"slide\" class=\"vtex-slider-layout-0-x-slide vtex-slider-layout-0-x-slide--carousel vtex-slider-layout-0-x-slide--firstVisible vtex-slider-layout-0-x-slide--carousel--firstVisible vtex-slider-layout-0-x-slide--hidden vtex-slider-layout-0-x-slide--carousel--hidden flex relative\" data-index=\"2\" role=\"group\" style=\"width:10%\"><div class=\"vtex-slider-layout-0-x-slideChildrenContainer vtex-slider-layout-0-x-slideChildrenContainer--carousel flex justify-center items-center w-100\"></div></div><div aria-hidden=\"true\" aria-label=\"3 of 8\" aria-roledescription=\"slide\" class=\"vtex-slider-layout-0-x-slide vtex-slider-layout-0-x-slide--carousel vtex-slider-layout-0-x-slide--firstVisible vtex-slider-layout-0-x-slide--carousel--firstVisible vtex-slider-layout-0-x-slide--hidden vtex-slider-layout-0-x-slide--carousel--hidden flex relative\" data-index=\"3\" role=\"group\" style=\"width:10%\"><div class=\"vtex-slider-layout-0-x-slideChildrenContainer vtex-slider-layout-0-x-slideChildrenContainer--carousel flex justify-center items-center w-100\"></div></div><div aria-hidden=\"true\" aria-label=\"4 of 8\" aria-roledescription=\"slide\" class=\"vtex-slider-layout-0-x-slide vtex-slider-layout-0-x-slide--carousel vtex-slider-layout-0-x-slide--firstVisible vtex-slider-layout-0-x-slide--carousel--firstVisible vtex-slider-layout-0-x-slide--hidden vtex-slider-layout-0-x-slide--carousel--hidden flex relative\" data-index=\"4\" role=\"group\" style=\"width:10%\"><div class=\"vtex-slider-layout-0-x-slideChildrenContainer vtex-slider-layout-0-x-slideChildrenContainer--carousel flex justify-center items-center w-100\"></div></div><div aria-hidden=\"true\" aria-label=\"5 of 8\" aria-roledescription=\"slide\" class=\"vtex-slider-layout-0-x-slide vtex-slider-layout-0-x-slide--carousel vtex-slider-layout-0-x-slide--firstVisible vtex-slider-layout-0-x-slide--carousel--firstVisible vtex-slider-layout-0-x-slide--hidden vtex-slider-layout-0-x-slide--carousel--hidden flex relative\" data-index=\"5\" role=\"group\" style=\"width:10%\"><div class=\"vtex-slider-layout-0-x-slideChildrenContainer vtex-slider-layout-0-x-slideChildrenContainer--carousel flex justify-center items-center w-100\"></div></div><div aria-hidden=\"true\" aria-label=\"6 of 8\" aria-roledescription=\"slide\" class=\"vtex-slider-layout-0-x-slide vtex-slider-layout-0-x-slide--carousel vtex-slider-layout-0-x-slide--firstVisible vtex-slider-layout-0-x-slide--carousel--firstVisible vtex-slider-layout-0-x-slide--hidden vtex-slider-layout-0-x-slide--carousel--hidden flex relative\" data-index=\"6\" role=\"group\" style=\"width:10%\"><div class=\"vtex-slider-layout-0-x-slideChildrenContainer vtex-slider-layout-0-x-slideChildrenContainer--carousel flex justify-center items-center w-100\"></div></div><div aria-hidden=\"true\" aria-label=\"7 of 8\" aria-roledescription=\"slide\" class=\"vtex-slider-layout-0-x-slide vtex-slider-layout-0-x-slide--carousel vtex-slider-layout-0-x-slide--firstVisible vtex-slider-layout-0-x-slide--carousel--firstVisible vtex-slider-layout-0-x-slide--hidden vtex-slider-layout-0-x-slide--carousel--hidden flex relative\" data-index=\"7\" role=\"group\" style=\"width:10%\"><div class=\"vtex-slider-layout-0-x-slideChildrenContainer vtex-slider-layout-0-x-slideChildrenContainer--carousel flex justify-center items-center w-100\"></div></div><div aria-hidden=\"true\" aria-label=\"8 of 8\" aria-roledescription=\"slide\" class=\"vtex-slider-layout-0-x-slide vtex-slider-layout-0-x-slide--carousel vtex-slider-layout-0-x-slide--firstVisible vtex-slider-layout-0-x-slide--carousel--firstVisible vtex-slider-layout-0-x-slide--hidden vtex-slider-layout-0-x-slide--carousel--hidden flex relative\" data-index=\"8\" role=\"group\" style=\"width:10%\"><div class=\"vtex-slider-layout-0-x-slideChildrenContainer vtex-slider-layout-0-x-slideChildrenContainer--carousel flex justify-center items-center w-100\"></div></div><div aria-hidden=\"true\" class=\"vtex-slider-layout-0-x-slide vtex-slider-layout-0-x-slide--carousel vtex-slider-layout-0-x-slide--firstVisible vtex-slider-layout-0-x-slide--carousel--firstVisible vtex-slider-layout-0-x-slide--hidden vtex-slider-layout-0-x-slide--carousel--hidden flex relative\" role=\"none presentation\" style=\"width:10%\"><div class=\"vtex-slider-layout-0-x-slideChildrenContainer vtex-slider-layout-0-x-slideChildrenContainer--carousel flex justify-center items-center w-100\"></div></div></div></div><button aria-controls=\"slider-items\" aria-label=\"Previous Slide\" class=\"vtex-slider-layout-0-x-sliderLeftArrow vtex-slider-layout-0-x-sliderLeftArrow--carousel left-0 vtex-slider-layout-0-x-sliderArrows vtex-slider-layout-0-x-sliderArrows--carousel absolute transparent ma2 flex items-center justify-center bn outline-0 pointer\" style=\"background:transparent\"><svg class=\"vtex-slider-layout-0-x-caretIcon vtex-slider-layout-0-x-caretIcon--carousel\" fill=\"none\" height=\"18\" viewbox=\"0 0 16 16\" width=\"18\" xmlns=\"http://www.w3.org/2000/svg\" xmlns:xlink=\"http://www.w3.org/1999/xlink\"><use href=\"#nav-thin-caret--left\" xlink:href=\"#nav-thin-caret--left\"></use></svg></button><button aria-controls=\"slider-items\" aria-label=\"Next Slide\" class=\"vtex-slider-layout-0-x-sliderRightArrow vtex-slider-layout-0-x-sliderRightArrow--carousel right-0 vtex-slider-layout-0-x-sliderArrows vtex-slider-layout-0-x-sliderArrows--carousel absolute transparent ma2 flex items-center justify-center bn outline-0 pointer\" style=\"background:transparent\"><svg class=\"vtex-slider-layout-0-x-caretIcon vtex-slider-layout-0-x-caretIcon--carousel\" fill=\"none\" height=\"18\" viewbox=\"0 0 16 16\" width=\"18\" xmlns=\"http://www.w3.org/2000/svg\" xmlns:xlink=\"http://www.w3.org/1999/xlink\"><use href=\"#nav-thin-caret--right\" xlink:href=\"#nav-thin-caret--right\"></use></svg></button><div aria-label=\"Slider pagination dots\" class=\"vtex-slider-layout-0-x-paginationDotsContainer vtex-slider-layout-0-x-paginationDotsContainer--carousel flex absolute justify-center pa0 ma0 bottom-0 left-0 right-0\" role=\"group\"><div aria-controls=\"slider-items\" aria-label=\"Dot 1 of 8\" class=\"vtex-slider-layout-0-x-paginationDot vtex-slider-layout-0-x-paginationDot--carousel vtex-slider-layout-0-x-paginationDot--isActive vtex-slider-layout-0-x-paginationDot--carousel--isActive bg-emphasis grow dib br-100 pa2 mr2 ml2 bw0 pointer outline-0\" data-testid=\"paginationDot\" role=\"button\" style=\"height:0.625rem;width:0.625rem\" tabindex=\"0\"></div><div aria-controls=\"slider-items\" aria-label=\"Dot 2 of 8\" class=\"vtex-slider-layout-0-x-paginationDot vtex-slider-layout-0-x-paginationDot--carousel bg-muted-3 grow dib br-100 pa2 mr2 ml2 bw0 pointer outline-0\" data-testid=\"paginationDot\" role=\"button\" style=\"height:0.625rem;width:0.625rem\" tabindex=\"1\"></div><div aria-controls=\"slider-items\" aria-label=\"Dot 3 of 8\" class=\"vtex-slider-layout-0-x-paginationDot vtex-slider-layout-0-x-paginationDot--carousel bg-muted-3 grow dib br-100 pa2 mr2 ml2 bw0 pointer outline-0\" data-testid=\"paginationDot\" role=\"button\" style=\"height:0.625rem;width:0.625rem\" tabindex=\"2\"></div><div aria-controls=\"slider-items\" aria-label=\"Dot 4 of 8\" class=\"vtex-slider-layout-0-x-paginationDot vtex-slider-layout-0-x-paginationDot--carousel bg-muted-3 grow dib br-100 pa2 mr2 ml2 bw0 pointer outline-0\" data-testid=\"paginationDot\" role=\"button\" style=\"height:0.625rem;width:0.625rem\" tabindex=\"3\"></div><div aria-controls=\"slider-items\" aria-label=\"Dot 5 of 8\" class=\"vtex-slider-layout-0-x-paginationDot vtex-slider-layout-0-x-paginationDot--carousel bg-muted-3 grow dib br-100 pa2 mr2 ml2 bw0 pointer outline-0\" data-testid=\"paginationDot\" role=\"button\" style=\"height:0.625rem;width:0.625rem\" tabindex=\"4\"></div><div aria-controls=\"slider-items\" aria-label=\"Dot 6 of 8\" class=\"vtex-slider-layout-0-x-paginationDot vtex-slider-layout-0-x-paginationDot--carousel bg-muted-3 grow dib br-100 pa2 mr2 ml2 bw0 pointer outline-0\" data-testid=\"paginationDot\" role=\"button\" style=\"height:0.625rem;width:0.625rem\" tabindex=\"5\"></div><div aria-controls=\"slider-items\" aria-label=\"Dot 7 of 8\" class=\"vtex-slider-layout-0-x-paginationDot vtex-slider-layout-0-x-paginationDot--carousel bg-muted-3 grow dib br-100 pa2 mr2 ml2 bw0 pointer outline-0\" data-testid=\"paginationDot\" role=\"button\" style=\"height:0.625rem;width:0.625rem\" tabindex=\"6\"></div><div aria-controls=\"slider-items\" aria-label=\"Dot 8 of 8\" class=\"vtex-slider-layout-0-x-paginationDot vtex-slider-layout-0-x-paginationDot--carousel bg-muted-3 grow dib br-100 pa2 mr2 ml2 bw0 pointer outline-0\" data-testid=\"paginationDot\" role=\"button\" style=\"height:0.625rem;width:0.625rem\" tabindex=\"7\"></div></div></section></div><div class=\"lyracons-content-visibility-0-x-contentHide\"> <!-- --> </div><div class=\"lyracons-content-visibility-0-x-contentShow\"></div><div class=\"lyracons-content-visibility-0-x-contentShow\"><div class=\"vtex-flex-layout-0-x-flexRow vtex-flex-layout-0-x-flexRow--homeRowContent\"><section class=\"vtex-store-components-3-x-container ph3 ph5-m ph2-xl mw9 center\"><div class=\"flex mt0 mb0 pt0 pb0 justify-center vtex-flex-layout-0-x-flexRowContent vtex-flex-layout-0-x-flexRowContent--homeRowContent items-stretch w-100\"><div class=\"pr0 items-stretch vtex-flex-layout-0-x-stretchChildrenWidth flex\" style=\"width:100%\"><div class=\"vtex-flex-layout-0-x-flexCol vtex-flex-layout-0-x-flexCol--col-container ml0 mr0 pl0 pr0 flex flex-column h-100 w-100\"><div class=\"vtex-flex-layout-0-x-flexColChild vtex-flex-layout-0-x-flexColChild--col-container pb0\" style=\"height:100%\"><section aria-label=\"slider\" class=\"w-100 flex items-center relative vtex-slider-layout-0-x-sliderLayoutContainer vtex-slider-layout-0-x-sliderLayoutContainer--homeRowContent-banner-countdown\"><div class=\"w-100 vtex-slider-layout-0-x-sliderTrackContainer vtex-slider-layout-0-x-sliderTrackContainer--homeRowContent-banner-countdown overflow-hidden\"><div aria-atomic=\"false\" aria-live=\"polite\" class=\"vtex-slider-layout-0-x-sliderTrack vtex-slider-layout-0-x-sliderTrack--homeRowContent-banner-countdown flex justify-around relative pa0 ma0\" data-testid=\"slider-track\" style=\"transform:translate3d(0%, 0, 0);width:100%\"><div aria-hidden=\"false\" aria-label=\"1 of 1\" aria-roledescription=\"slide\" class=\"vtex-slider-layout-0-x-slide vtex-slider-layout-0-x-slide--homeRowContent-banner-countdown vtex-slider-layout-0-x-slide--firstVisible vtex-slider-layout-0-x-slide--homeRowContent-banner-countdown--firstVisible vtex-slider-layout-0-x-slide--visible vtex-slider-layout-0-x-slide--homeRowContent-banner-countdown--visible flex relative\" data-index=\"1\" role=\"group\" style=\"width:100%\"><div class=\"vtex-slider-layout-0-x-slideChildrenContainer vtex-slider-layout-0-x-slideChildrenContainer--homeRowContent-banner-countdown flex justify-center items-center w-100\"><a class=\"vtex-slider-layout-0-x-imageElementLink vtex-slider-layout-0-x-imageElementLink--homeRowContent-banner-countdown vtex-store-components-3-x-imageElementLink vtex-store-components-3-x-imageElementLink--homeRowContent-banner-countdown\" href=\"/kermes-online\" rel=\"\" title=\"\"><img alt=\"\" class=\"vtex-slider-layout-0-x-imageElement vtex-slider-layout-0-x-imageElement--homeRowContent-banner-countdown vtex-store-components-3-x-imageElement vtex-store-components-3-x-imageElement--homeRowContent-banner-countdown\" crossorigin=\"anonymous\" loading=\"eager\" sizes=\"\" src=\"https://carrefourar.vtexassets.com/assets/vtex.file-manager-graphql/images/fa2bc924-71bf-4747-baf6-5df730fb1e4c___613c68b655cd5db981741c2bb0caf7fe.png\" srcset=\"\" style=\"max-height:420px;width:100%\" title=\"\"/></a></div></div></div></div></section></div><div class=\"vtex-flex-layout-0-x-flexColChild vtex-flex-layout-0-x-flexColChild--col-container pb0\" style=\"height:100%\"><div class=\"undefined\"></div></div></div></div></div></section></div></div><div class=\"lyracons-content-visibility-0-x-contentShow\"><div class=\"vtex-flex-layout-0-x-flexRow vtex-flex-layout-0-x-flexRow--homeRowContentSixBanner\"><section class=\"vtex-store-components-3-x-container ph3 ph5-m ph2-xl mw9 center\"><div class=\"flex mt0 mb0 pt0 pb0 justify-center vtex-flex-layout-0-x-flexRowContent vtex-flex-layout-0-x-flexRowContent--homeRowContentSixBanner items-stretch w-100\"><div class=\"pr0 items-stretch vtex-flex-layout-0-x-stretchChildrenWidth flex-grow-1 flex\" style=\"width:grow\"><div class=\"vtex-flex-layout-0-x-flexCol vtex-flex-layout-0-x-flexCol--homeColSixBanner ml0 mr0 pl0 pr0 flex flex-column h-100 w-100\"><div class=\"vtex-flex-layout-0-x-flexColChild vtex-flex-layout-0-x-flexColChild--homeColSixBanner pb0\" style=\"height:100%\"><div class=\"vtex-flex-layout-0-x-flexRow\"><div class=\"flex mt0 mb0 pt0 pb0 justify-center vtex-flex-layout-0-x-flexRowContent items-stretch w-100\"><div class=\"pr0 items-stretch vtex-flex-layout-0-x-stretchChildrenWidth flex\" style=\"width:100%\"><section aria-label=\"slider\" class=\"w-100 flex items-center relative vtex-slider-layout-0-x-sliderLayoutContainer vtex-slider-layout-0-x-sliderLayoutContainer--homeRowContent\"><div class=\"w-100 vtex-slider-layout-0-x-sliderTrackContainer vtex-slider-layout-0-x-sliderTrackContainer--homeRowContent overflow-hidden\"><div aria-atomic=\"false\" aria-live=\"polite\" class=\"vtex-slider-layout-0-x-sliderTrack vtex-slider-layout-0-x-sliderTrack--homeRowContent flex justify-around relative pa0 ma0\" data-testid=\"slider-track\" style=\"transform:translate3d(0%, 0, 0);width:100%\"><div aria-hidden=\"false\" aria-label=\"1 of 1\" aria-roledescription=\"slide\" class=\"vtex-slider-layout-0-x-slide vtex-slider-layout-0-x-slide--homeRowContent vtex-slider-layout-0-x-slide--firstVisible vtex-slider-layout-0-x-slide--homeRowContent--firstVisible vtex-slider-layout-0-x-slide--visible vtex-slider-layout-0-x-slide--homeRowContent--visible flex relative\" data-index=\"1\" role=\"group\" style=\"width:100%\"><div class=\"vtex-slider-layout-0-x-slideChildrenContainer vtex-slider-layout-0-x-slideChildrenContainer--homeRowContent flex justify-center items-center w-100\"><a class=\"vtex-slider-layout-0-x-imageElementLink vtex-slider-layout-0-x-imageElementLink--homeRowContent vtex-store-components-3-x-imageElementLink vtex-store-components-3-x-imageElementLink--homeRowContent\" href=\"/8743?map=productClusterIds\" rel=\"\" title=\"\"><img alt=\"\" class=\"vtex-slider-layout-0-x-imageElement vtex-slider-layout-0-x-imageElement--homeRowContent vtex-store-components-3-x-imageElement vtex-store-components-3-x-imageElement--homeRowContent\" crossorigin=\"anonymous\" loading=\"eager\" sizes=\"\" src=\"https://carrefourar.vtexassets.com/assets/vtex.file-manager-graphql/images/13b977e8-65de-4c5b-af03-add6e32bc067___2c69e9c636062ba6de1be46ff1588220.png\" srcset=\"\" style=\"max-height:420px;width:100%\" title=\"\"/></a></div></div></div></div></section></div></div></div></div></div></div><div class=\"pr0 items-stretch vtex-flex-layout-0-x-stretchChildrenWidth flex-grow-1 flex\" style=\"width:grow\"><div class=\"vtex-flex-layout-0-x-flexCol vtex-flex-layout-0-x-flexCol--homeColSixBanner ml0 mr0 pl0 pr0 flex flex-column h-100 w-100\"><div class=\"vtex-flex-layout-0-x-flexColChild vtex-flex-layout-0-x-flexColChild--homeColSixBanner pb0\" style=\"height:100%\"><div class=\"vtex-flex-layout-0-x-flexRow\"><div class=\"flex mt0 mb0 pt0 pb0 justify-center vtex-flex-layout-0-x-flexRowContent items-stretch w-100\"><div class=\"pr0 items-stretch vtex-flex-layout-0-x-stretchChildrenWidth flex\" style=\"width:100%\"><section aria-label=\"slider\" class=\"w-100 flex items-center relative vtex-slider-layout-0-x-sliderLayoutContainer vtex-slider-layout-0-x-sliderLayoutContainer--homeRowContent\"><div class=\"w-100 vtex-slider-layout-0-x-sliderTrackContainer vtex-slider-layout-0-x-sliderTrackContainer--homeRowContent overflow-hidden\"><div aria-atomic=\"false\" aria-live=\"polite\" class=\"vtex-slider-layout-0-x-sliderTrack vtex-slider-layout-0-x-sliderTrack--homeRowContent flex justify-around relative pa0 ma0\" data-testid=\"slider-track\" style=\"transform:translate3d(0%, 0, 0);width:100%\"><div aria-hidden=\"false\" aria-label=\"1 of 1\" aria-roledescription=\"slide\" class=\"vtex-slider-layout-0-x-slide vtex-slider-layout-0-x-slide--homeRowContent vtex-slider-layout-0-x-slide--firstVisible vtex-slider-layout-0-x-slide--homeRowContent--firstVisible vtex-slider-layout-0-x-slide--visible vtex-slider-layout-0-x-slide--homeRowContent--visible flex relative\" data-index=\"1\" role=\"group\" style=\"width:100%\"><div class=\"vtex-slider-layout-0-x-slideChildrenContainer vtex-slider-layout-0-x-slideChildrenContainer--homeRowContent flex justify-center items-center w-100\"><a class=\"vtex-slider-layout-0-x-imageElementLink vtex-slider-layout-0-x-imageElementLink--homeRowContent vtex-store-components-3-x-imageElementLink vtex-store-components-3-x-imageElementLink--homeRowContent\" href=\"/8742?map=productClusterIds\" rel=\"\" title=\"\"><img alt=\"\" class=\"vtex-slider-layout-0-x-imageElement vtex-slider-layout-0-x-imageElement--homeRowContent vtex-store-components-3-x-imageElement vtex-store-components-3-x-imageElement--homeRowContent\" crossorigin=\"anonymous\" loading=\"eager\" sizes=\"\" src=\"https://carrefourar.vtexassets.com/assets/vtex.file-manager-graphql/images/676b2e38-badb-409b-89d9-f81a8c9efe40___8f5a676623bc3646dd32cb4b230050b1.png\" srcset=\"\" style=\"max-height:420px;width:100%\" title=\"\"/></a></div></div></div></div></section></div></div></div></div></div></div><div class=\"pr0 items-stretch vtex-flex-layout-0-x-stretchChildrenWidth flex-grow-1 flex\" style=\"width:grow\"><div class=\"vtex-flex-layout-0-x-flexCol vtex-flex-layout-0-x-flexCol--homeColSixBanner ml0 mr0 pl0 pr0 flex flex-column h-100 w-100\"><div class=\"vtex-flex-layout-0-x-flexColChild vtex-flex-layout-0-x-flexColChild--homeColSixBanner pb0\" style=\"height:100%\"><div class=\"vtex-flex-layout-0-x-flexRow\"><div class=\"flex mt0 mb0 pt0 pb0 justify-center vtex-flex-layout-0-x-flexRowContent items-stretch w-100\"><div class=\"pr0 items-stretch vtex-flex-layout-0-x-stretchChildrenWidth flex\" style=\"width:100%\"><section aria-label=\"slider\" class=\"w-100 flex items-center relative vtex-slider-layout-0-x-sliderLayoutContainer vtex-slider-layout-0-x-sliderLayoutContainer--homeRowContent\"><div class=\"w-100 vtex-slider-layout-0-x-sliderTrackContainer vtex-slider-layout-0-x-sliderTrackContainer--homeRowContent overflow-hidden\"><div aria-atomic=\"false\" aria-live=\"polite\" class=\"vtex-slider-layout-0-x-sliderTrack vtex-slider-layout-0-x-sliderTrack--homeRowContent flex justify-around relative pa0 ma0\" data-testid=\"slider-track\" style=\"transform:translate3d(0%, 0, 0);width:100%\"><div aria-hidden=\"false\" aria-label=\"1 of 1\" aria-roledescription=\"slide\" class=\"vtex-slider-layout-0-x-slide vtex-slider-layout-0-x-slide--homeRowContent vtex-slider-layout-0-x-slide--firstVisible vtex-slider-layout-0-x-slide--homeRowContent--firstVisible vtex-slider-layout-0-x-slide--visible vtex-slider-layout-0-x-slide--homeRowContent--visible flex relative\" data-index=\"1\" role=\"group\" style=\"width:100%\"><div class=\"vtex-slider-layout-0-x-slideChildrenContainer vtex-slider-layout-0-x-slideChildrenContainer--homeRowContent flex justify-center items-center w-100\"><a class=\"vtex-slider-layout-0-x-imageElementLink vtex-slider-layout-0-x-imageElementLink--homeRowContent vtex-store-components-3-x-imageElementLink vtex-store-components-3-x-imageElementLink--homeRowContent\" href=\"/8741?map=productClusterIds\" rel=\"\" title=\"\"><img alt=\"\" class=\"vtex-slider-layout-0-x-imageElement vtex-slider-layout-0-x-imageElement--homeRowContent vtex-store-components-3-x-imageElement vtex-store-components-3-x-imageElement--homeRowContent\" crossorigin=\"anonymous\" loading=\"eager\" sizes=\"\" src=\"https://carrefourar.vtexassets.com/assets/vtex.file-manager-graphql/images/f55217a8-f0b7-41a0-bb0b-06be984c1dbf___584214fd4598c1e3bb5ed2752e4f46df.png\" srcset=\"\" style=\"max-height:420px;width:100%\" title=\"\"/></a></div></div></div></div></section></div></div></div></div></div></div><div class=\"pr0 items-stretch vtex-flex-layout-0-x-stretchChildrenWidth flex-grow-1 flex\" style=\"width:grow\"><div class=\"vtex-flex-layout-0-x-flexCol vtex-flex-layout-0-x-flexCol--homeColSixBanner ml0 mr0 pl0 pr0 flex flex-column h-100 w-100\"><div class=\"vtex-flex-layout-0-x-flexColChild vtex-flex-layout-0-x-flexColChild--homeColSixBanner pb0\" style=\"height:100%\"><div class=\"vtex-flex-layout-0-x-flexRow\"><div class=\"flex mt0 mb0 pt0 pb0 justify-center vtex-flex-layout-0-x-flexRowContent items-stretch w-100\"><div class=\"pr0 items-stretch vtex-flex-layout-0-x-stretchChildrenWidth flex\" style=\"width:100%\"><section aria-label=\"slider\" class=\"w-100 flex items-center relative vtex-slider-layout-0-x-sliderLayoutContainer vtex-slider-layout-0-x-sliderLayoutContainer--homeRowContent\"><div class=\"w-100 vtex-slider-layout-0-x-sliderTrackContainer vtex-slider-layout-0-x-sliderTrackContainer--homeRowContent overflow-hidden\"><div aria-atomic=\"false\" aria-live=\"polite\" class=\"vtex-slider-layout-0-x-sliderTrack vtex-slider-layout-0-x-sliderTrack--homeRowContent flex justify-around relative pa0 ma0\" data-testid=\"slider-track\" style=\"transform:translate3d(0%, 0, 0);width:100%\"><div aria-hidden=\"false\" aria-label=\"1 of 1\" aria-roledescription=\"slide\" class=\"vtex-slider-layout-0-x-slide vtex-slider-layout-0-x-slide--homeRowContent vtex-slider-layout-0-x-slide--firstVisible vtex-slider-layout-0-x-slide--homeRowContent--firstVisible vtex-slider-layout-0-x-slide--visible vtex-slider-layout-0-x-slide--homeRowContent--visible flex relative\" data-index=\"1\" role=\"group\" style=\"width:100%\"><div class=\"vtex-slider-layout-0-x-slideChildrenContainer vtex-slider-layout-0-x-slideChildrenContainer--homeRowContent flex justify-center items-center w-100\"><a class=\"vtex-slider-layout-0-x-imageElementLink vtex-slider-layout-0-x-imageElementLink--homeRowContent vtex-store-components-3-x-imageElementLink vtex-store-components-3-x-imageElementLink--homeRowContent\" href=\"/Electro-y-tecnologia/Smart-TV-y-soportes/Smart-TV?order=\" rel=\"\" title=\"\"><img alt=\"\" class=\"vtex-slider-layout-0-x-imageElement vtex-slider-layout-0-x-imageElement--homeRowContent vtex-store-components-3-x-imageElement vtex-store-components-3-x-imageElement--homeRowContent\" crossorigin=\"anonymous\" loading=\"eager\" sizes=\"\" src=\"https://carrefourar.vtexassets.com/assets/vtex.file-manager-graphql/images/70cfaa99-7977-4381-b131-05869e85020a___9470aeb7b4c93e812594a6d27fb9de8f.png\" srcset=\"\" style=\"max-height:420px;width:100%\" title=\"\"/></a></div></div></div></div></section></div></div></div></div></div></div><div class=\"pr0 items-stretch vtex-flex-layout-0-x-stretchChildrenWidth flex-grow-1 flex\" style=\"width:grow\"><div class=\"vtex-flex-layout-0-x-flexCol vtex-flex-layout-0-x-flexCol--homeColSixBanner ml0 mr0 pl0 pr0 flex flex-column h-100 w-100\"><div class=\"vtex-flex-layout-0-x-flexColChild vtex-flex-layout-0-x-flexColChild--homeColSixBanner pb0\" style=\"height:100%\"><div class=\"vtex-flex-layout-0-x-flexRow\"><div class=\"flex mt0 mb0 pt0 pb0 justify-center vtex-flex-layout-0-x-flexRowContent items-stretch w-100\"><div class=\"pr0 items-stretch vtex-flex-layout-0-x-stretchChildrenWidth flex\" style=\"width:100%\"><section aria-label=\"slider\" class=\"w-100 flex items-center relative vtex-slider-layout-0-x-sliderLayoutContainer vtex-slider-layout-0-x-sliderLayoutContainer--homeRowContent\"><div class=\"w-100 vtex-slider-layout-0-x-sliderTrackContainer vtex-slider-layout-0-x-sliderTrackContainer--homeRowContent overflow-hidden\"><div aria-atomic=\"false\" aria-live=\"polite\" class=\"vtex-slider-layout-0-x-sliderTrack vtex-slider-layout-0-x-sliderTrack--homeRowContent flex justify-around relative pa0 ma0\" data-testid=\"slider-track\" style=\"transform:translate3d(0%, 0, 0);width:100%\"><div aria-hidden=\"false\" aria-label=\"1 of 1\" aria-roledescription=\"slide\" class=\"vtex-slider-layout-0-x-slide vtex-slider-layout-0-x-slide--homeRowContent vtex-slider-layout-0-x-slide--firstVisible vtex-slider-layout-0-x-slide--homeRowContent--firstVisible vtex-slider-layout-0-x-slide--visible vtex-slider-layout-0-x-slide--homeRowContent--visible flex relative\" data-index=\"1\" role=\"group\" style=\"width:100%\"><div class=\"vtex-slider-layout-0-x-slideChildrenContainer vtex-slider-layout-0-x-slideChildrenContainer--homeRowContent flex justify-center items-center w-100\"><a class=\"vtex-slider-layout-0-x-imageElementLink vtex-slider-layout-0-x-imageElementLink--homeRowContent vtex-store-components-3-x-imageElementLink vtex-store-components-3-x-imageElementLink--homeRowContent\" href=\"/7995?map=productClusterIds\" rel=\"\" title=\"\"><img alt=\"\" class=\"vtex-slider-layout-0-x-imageElement vtex-slider-layout-0-x-imageElement--homeRowContent vtex-store-components-3-x-imageElement vtex-store-components-3-x-imageElement--homeRowContent\" crossorigin=\"anonymous\" loading=\"eager\" sizes=\"\" src=\"https://carrefourar.vtexassets.com/assets/vtex.file-manager-graphql/images/f19b5542-ff95-496d-83d9-a20815b6fe8c___b92d4592fd705aaa9c613097bc053467.png\" srcset=\"\" style=\"max-height:420px;width:100%\" title=\"\"/></a></div></div></div></div></section></div></div></div></div></div></div><div class=\"pr0 items-stretch vtex-flex-layout-0-x-stretchChildrenWidth flex-grow-1 flex\" style=\"width:grow\"><div class=\"vtex-flex-layout-0-x-flexCol vtex-flex-layout-0-x-flexCol--homeColSixBanner ml0 mr0 pl0 pr0 flex flex-column h-100 w-100\"><div class=\"vtex-flex-layout-0-x-flexColChild vtex-flex-layout-0-x-flexColChild--homeColSixBanner pb0\" style=\"height:100%\"><div class=\"vtex-flex-layout-0-x-flexRow\"><div class=\"flex mt0 mb0 pt0 pb0 justify-center vtex-flex-layout-0-x-flexRowContent items-stretch w-100\"><div class=\"pr0 items-stretch vtex-flex-layout-0-x-stretchChildrenWidth flex\" style=\"width:100%\"><section aria-label=\"slider\" class=\"w-100 flex items-center relative vtex-slider-layout-0-x-sliderLayoutContainer vtex-slider-layout-0-x-sliderLayoutContainer--homeRowContent\"><div class=\"w-100 vtex-slider-layout-0-x-sliderTrackContainer vtex-slider-layout-0-x-sliderTrackContainer--homeRowContent overflow-hidden\"><div aria-atomic=\"false\" aria-live=\"polite\" class=\"vtex-slider-layout-0-x-sliderTrack vtex-slider-layout-0-x-sliderTrack--homeRowContent flex justify-around relative pa0 ma0\" data-testid=\"slider-track\" style=\"transform:translate3d(0%, 0, 0);width:100%\"><div aria-hidden=\"false\" aria-label=\"1 of 1\" aria-roledescription=\"slide\" class=\"vtex-slider-layout-0-x-slide vtex-slider-layout-0-x-slide--homeRowContent vtex-slider-layout-0-x-slide--firstVisible vtex-slider-layout-0-x-slide--homeRowContent--firstVisible vtex-slider-layout-0-x-slide--visible vtex-slider-layout-0-x-slide--homeRowContent--visible flex relative\" data-index=\"1\" role=\"group\" style=\"width:100%\"><div class=\"vtex-slider-layout-0-x-slideChildrenContainer vtex-slider-layout-0-x-slideChildrenContainer--homeRowContent flex justify-center items-center w-100\"><a class=\"vtex-slider-layout-0-x-imageElementLink vtex-slider-layout-0-x-imageElementLink--homeRowContent vtex-store-components-3-x-imageElementLink vtex-store-components-3-x-imageElementLink--homeRowContent\" href=\"/promociones-bancarias\" rel=\"\" title=\"\"><img alt=\"Promociones Bancarias\" class=\"vtex-slider-layout-0-x-imageElement vtex-slider-layout-0-x-imageElement--homeRowContent vtex-store-components-3-x-imageElement vtex-store-components-3-x-imageElement--homeRowContent\" crossorigin=\"anonymous\" loading=\"eager\" sizes=\"\" src=\"https://carrefourar.vtexassets.com/assets/vtex.file-manager-graphql/images/37d5b653-f51d-4056-98d9-276077ef3b6f___3802a27afe906aac0048f2372194f6ee.webp\" srcset=\"\" style=\"max-height:420px;width:100%\" title=\"Promociones Bancarias\"/></a></div></div></div></div></section></div></div></div></div></div></div></div></section></div></div><div style=\"position:relative;width:100%;height:400px\"><div style=\"position:relative;width:100%;top:-300px;height:100%;padding-bottom:600px;box-sizing:content-box\"></div></div><div style=\"position:relative;width:100%;height:400px\"><div style=\"position:relative;width:100%;top:-300px;height:100%;padding-bottom:600px;box-sizing:content-box\"></div></div><div style=\"position:relative;width:100%;height:400px\"><div style=\"position:relative;width:100%;top:-300px;height:100%;padding-bottom:600px;box-sizing:content-box\"></div></div><div style=\"position:relative;width:100%;height:400px\"><div style=\"position:relative;width:100%;top:-300px;height:100%;padding-bottom:600px;box-sizing:content-box\"></div></div><div style=\"position:relative;width:100%;height:400px\"><div style=\"position:relative;width:100%;top:-300px;height:100%;padding-bottom:600px;box-sizing:content-box\"></div></div><div style=\"position:relative;width:100%;height:400px\"><div style=\"position:relative;width:100%;top:-300px;height:100%;padding-bottom:600px;box-sizing:content-box\"></div></div><div style=\"position:relative;width:100%;height:400px\"><div style=\"position:relative;width:100%;top:-300px;height:100%;padding-bottom:600px;box-sizing:content-box\"></div></div><div style=\"position:relative;width:100%;height:400px\"><div style=\"position:relative;width:100%;top:-300px;height:100%;padding-bottom:600px;box-sizing:content-box\"></div></div><div style=\"position:relative;width:100%;height:400px\"><div style=\"position:relative;width:100%;top:-300px;height:100%;padding-bottom:600px;box-sizing:content-box\"></div></div><div style=\"position:relative;width:100%;height:400px\"><div style=\"position:relative;width:100%;top:-300px;height:100%;padding-bottom:600px;box-sizing:content-box\"></div></div><div style=\"position:relative;width:100%;height:400px\"><div style=\"position:relative;width:100%;top:-300px;height:100%;padding-bottom:600px;box-sizing:content-box\"></div></div><div style=\"position:relative;width:100%;height:400px\"><div style=\"position:relative;width:100%;top:-300px;height:100%;padding-bottom:600px;box-sizing:content-box\"></div></div><div style=\"position:relative;width:100%;height:400px\"><div style=\"position:relative;width:100%;top:-300px;height:100%;padding-bottom:600px;box-sizing:content-box\"></div></div><div style=\"position:relative;width:100%;height:400px\"><div style=\"position:relative;width:100%;top:-300px;height:100%;padding-bottom:600px;box-sizing:content-box\"></div></div><div style=\"position:relative;width:100%;height:400px\"><div style=\"position:relative;width:100%;top:-300px;height:100%;padding-bottom:600px;box-sizing:content-box\"></div></div><div style=\"position:relative;width:100%;height:400px\"><div style=\"position:relative;width:100%;top:-300px;height:100%;padding-bottom:600px;box-sizing:content-box\"></div></div><div style=\"position:relative;width:100%;height:400px\"><div style=\"position:relative;width:100%;top:-300px;height:100%;padding-bottom:600px;box-sizing:content-box\"></div></div><div style=\"position:relative;width:100%;height:400px\"><div style=\"position:relative;width:100%;top:-300px;height:100%;padding-bottom:600px;box-sizing:content-box\"></div></div><div style=\"position:relative;width:100%;height:400px\"><div style=\"position:relative;width:100%;top:-300px;height:100%;padding-bottom:600px;box-sizing:content-box\"></div></div><div style=\"position:relative;width:100%;height:400px\"><div style=\"position:relative;width:100%;top:-300px;height:100%;padding-bottom:600px;box-sizing:content-box\"></div></div><div style=\"position:relative;width:100%;height:400px\"><div style=\"position:relative;width:100%;top:-300px;height:100%;padding-bottom:600px;box-sizing:content-box\"></div></div><div style=\"position:relative;width:100%;height:400px\"><div style=\"position:relative;width:100%;top:-300px;height:100%;padding-bottom:600px;box-sizing:content-box\"></div></div><div style=\"position:relative;width:100%;height:400px\"><div style=\"position:relative;width:100%;top:-300px;height:100%;padding-bottom:600px;box-sizing:content-box\"></div></div><div style=\"position:relative;width:100%;height:400px\"><div style=\"position:relative;width:100%;top:-300px;height:100%;padding-bottom:600px;box-sizing:content-box\"></div></div><div style=\"position:relative;width:100%;height:400px\"><div style=\"position:relative;width:100%;top:-300px;height:100%;padding-bottom:600px;box-sizing:content-box\"></div></div><div style=\"position:relative;width:100%;height:400px\"><div style=\"position:relative;width:100%;top:-300px;height:100%;padding-bottom:600px;box-sizing:content-box\"></div></div><div style=\"position:relative;width:100%;height:400px\"><div style=\"position:relative;width:100%;top:-300px;height:100%;padding-bottom:600px;box-sizing:content-box\"></div></div><div style=\"position:relative;width:100%;height:400px\"><div style=\"position:relative;width:100%;top:-300px;height:100%;padding-bottom:600px;box-sizing:content-box\"></div></div><div style=\"position:relative;width:100%;height:400px\"><div style=\"position:relative;width:100%;top:-300px;height:100%;padding-bottom:600px;box-sizing:content-box\"></div></div><div style=\"position:relative;width:100%;height:400px\"><div style=\"position:relative;width:100%;top:-300px;height:100%;padding-bottom:600px;box-sizing:content-box\"></div></div><div style=\"position:relative;width:100%;height:400px\"><div style=\"position:relative;width:100%;top:-300px;height:100%;padding-bottom:600px;box-sizing:content-box\"></div></div><div style=\"position:relative;width:100%;height:400px\"><div style=\"position:relative;width:100%;top:-300px;height:100%;padding-bottom:600px;box-sizing:content-box\"></div></div><div style=\"position:relative;width:100%;height:400px\"><div style=\"position:relative;width:100%;top:-300px;height:100%;padding-bottom:600px;box-sizing:content-box\"></div></div><div style=\"position:relative;width:100%;height:400px\"><div style=\"position:relative;width:100%;top:-300px;height:100%;padding-bottom:600px;box-sizing:content-box\"></div></div><div style=\"position:relative;width:100%;height:400px\"><div style=\"position:relative;width:100%;top:-300px;height:100%;padding-bottom:600px;box-sizing:content-box\"></div></div><div style=\"position:relative;width:100%;height:400px\"><div style=\"position:relative;width:100%;top:-300px;height:100%;padding-bottom:600px;box-sizing:content-box\"></div></div><div style=\"position:relative;width:100%;height:400px\"><div style=\"position:relative;width:100%;top:-300px;height:100%;padding-bottom:600px;box-sizing:content-box\"></div></div><div style=\"position:relative;width:100%;height:400px\"><div style=\"position:relative;width:100%;top:-300px;height:100%;padding-bottom:600px;box-sizing:content-box\"></div></div><div style=\"position:relative;width:100%;height:400px\"><div style=\"position:relative;width:100%;top:-300px;height:100%;padding-bottom:600px;box-sizing:content-box\"></div></div><div style=\"position:relative;width:100%;height:400px\"><div style=\"position:relative;width:100%;top:-300px;height:100%;padding-bottom:600px;box-sizing:content-box\"></div></div><div style=\"position:relative;width:100%;height:400px\"><div style=\"position:relative;width:100%;top:-300px;height:100%;padding-bottom:600px;box-sizing:content-box\"></div></div><div style=\"position:relative;width:100%;height:400px\"><div style=\"position:relative;width:100%;top:-300px;height:100%;padding-bottom:600px;box-sizing:content-box\"></div></div><div style=\"position:relative;width:100%;height:400px\"><div style=\"position:relative;width:100%;top:-300px;height:100%;padding-bottom:600px;box-sizing:content-box\"></div></div><div style=\"position:relative;width:100%;height:400px\"><div style=\"position:relative;width:100%;top:-300px;height:100%;padding-bottom:600px;box-sizing:content-box\"></div></div><div style=\"position:relative;width:100%;height:400px\"><div style=\"position:relative;width:100%;top:-300px;height:100%;padding-bottom:600px;box-sizing:content-box\"></div></div><div style=\"position:relative;width:100%;height:400px\"><div style=\"position:relative;width:100%;top:-300px;height:100%;padding-bottom:600px;box-sizing:content-box\"></div></div></div></div></div></div></div><div class=\"\"><div class=\"mw9 center w-100\" data-testid=\"loading-preview\" style=\"padding:20px\"><div style=\"width:100%;height:1360px;position:relative\"><div style=\"width:100%;height:1360px;overflow:hidden;position:absolute;top:0;left:0;border-radius:5px\"><div class=\"vtex-render-runtime-8-x-slide\" style=\"width:300vw;height:100%;position:relative;left:0;background-color:#e0e0e0;background-image:linear-gradient(90deg, #e0e0e0, #e0e0e0 50%, #e8e8e8 60%, #e0e0e0 65%, #e0e0e0);background-size:50% 100%;background-repeat:repeat-x\"></div></div></div></div></div></div></div><div style=\"display:none\"><div class=\"center w-100 mw9\" style=\"padding:20px\"><div style=\"width:100%;height:1400px;position:relative\"><div style=\"width:100%;height:1400px;overflow:hidden;position:absolute;top:0;left:0;border-radius:5px\"><div class=\"vtex-render-runtime-8-x-slide\" style=\"width:300vw;height:100%;position:relative;left:0;background-color:#e0e0e0;background-image:linear-gradient(90deg, #e0e0e0, #e0e0e0 50%, #e8e8e8 60%, #e0e0e0 65%, #e0e0e0);background-size:50% 100%;background-repeat:repeat-x\"></div></div></div></div></div><div class=\"flex flex-grow-1\"></div><div style=\"position:relative;width:100%;height:400px\"><div style=\"position:relative;width:100%;top:-300px;height:100%;padding-bottom:600px;box-sizing:content-box\"></div></div></div></div><div class=\"fixed z-max overflow-hidden\" style=\"pointer-events:none\"></div></div></div>"
      ]
     },
     "execution_count": 133,
     "metadata": {},
     "output_type": "execute_result"
    }
   ],
   "source": [
    "one"
   ]
  },
  {
   "cell_type": "code",
   "execution_count": 134,
   "metadata": {},
   "outputs": [],
   "source": [
    "tablades = one.find(\"divv\",class_=\"flex vtex-store-drawer-0-x-drawerHeader vtex-store-drawer-0-x-drawerHeader--menuCategoryHeaderMobile\")"
   ]
  },
  {
   "cell_type": "code",
   "execution_count": 135,
   "metadata": {},
   "outputs": [],
   "source": [
    "tablades"
   ]
  },
  {
   "cell_type": "code",
   "execution_count": 84,
   "metadata": {},
   "outputs": [],
   "source": [
    "two = one.find(\"div\",class_=\"render-provider\")"
   ]
  },
  {
   "cell_type": "code",
   "execution_count": 85,
   "metadata": {},
   "outputs": [],
   "source": [
    "three = two.find(\"div\",class_=\"vtex-store__template bg-base\")"
   ]
  },
  {
   "cell_type": "code",
   "execution_count": 86,
   "metadata": {},
   "outputs": [],
   "source": [
    "four = three.find(\"div\",class_=\"flex flex-column min-vh-100 w-100\")"
   ]
  },
  {
   "cell_type": "code",
   "execution_count": 96,
   "metadata": {},
   "outputs": [],
   "source": [
    "five = four.find(\"div\",class_=\"vtex-store-header-2-x-headerStickyRow vtex-store-header-2-x-headerStickyRow--topBar\")"
   ]
  },
  {
   "cell_type": "code",
   "execution_count": 101,
   "metadata": {},
   "outputs": [
    {
     "data": {
      "text/plain": [
       "<div class=\"vtex-store-header-2-x-headerStickyRow vtex-store-header-2-x-headerStickyRow--topBar\"><div class=\"vtex-store-header-2-x-headerRow vtex-store-header-2-x-headerRow--topBar\"><div class=\"vtex-store-header-2-x-headerRowBackground vtex-store-header-2-x-headerRowBackground--topBar w-100 bg-base c-on-base\"><div class=\"vtex-store-header-2-x-headerRowContainer vtex-store-header-2-x-headerRowContainer--topBar w-100 flex items-center\"><div class=\"vtex-store-header-2-x-headerSpacer flex flex-grow-1\"></div><nav class=\"vtex-menu-2-x-menuContainerNav vtex-menu-2-x-menuContainerNav--menuCustom\"><ul class=\"vtex-menu-2-x-menuContainer vtex-menu-2-x-menuContainer--menuCustom list flex pl0 mv0 flex-row\"><div class=\"lyracons-content-visibility-0-x-contentShow\"><div class=\"vtex-flex-layout-0-x-flexRow\"><section class=\"vtex-store-components-3-x-container ph3 ph5-m ph2-xl mw9 center\"><div class=\"flex mt0 mb0 pt0 pb0 justify-start vtex-flex-layout-0-x-flexRowContent items-stretch w-100\"><div class=\"pr0 items-stretch vtex-flex-layout-0-x-stretchChildrenWidth flex\" style=\"width:14%\"><li class=\"vtex-menu-2-x-menuItem list vtex-menu-2-x-menuItem vtex-menu-2-x-menuItem--isClosed\"><div class=\"vtex-menu-2-x-styledLinkContainer mh6 pv5\"><a class=\"vtex-menu-2-x-styledLink no-underline pointer t-body c-on-base pointer\" href=\"/como-comprar\" id=\"menu-item-howToBuy\" title=\"Cómo comprar\"><div class=\"vtex-menu-2-x-styledLinkContent flex justify-between nowrap\"><span class=\"vtex-menu-2-x-styledLinkIcon mh2\" data-testid=\"icon-left\"><svg class=\"\" fill=\"none\" height=\"20\" viewbox=\"0 0 18 15\" width=\"20\" xmlns=\"http://www.w3.org/2000/svg\" xmlns:xlink=\"http://www.w3.org/1999/xlink\"><use href=\"#inf-comoComprar\" xlink:href=\"#inf-comoComprar\"></use></svg></span>Cómo comprar</div></a></div></li></div><div class=\"pr0 items-stretch vtex-flex-layout-0-x-stretchChildrenWidth flex\" style=\"width:14%\"><li class=\"vtex-menu-2-x-menuItem list vtex-menu-2-x-menuItem vtex-menu-2-x-menuItem--isClosed\"><div class=\"vtex-menu-2-x-styledLinkContainer mh6 pv5\"><a class=\"vtex-menu-2-x-styledLink no-underline pointer t-body c-on-base pointer\" href=\"/promociones\" id=\"menu-item-promotions\" title=\"Promociones\"><div class=\"vtex-menu-2-x-styledLinkContent flex justify-between nowrap\"><span class=\"vtex-menu-2-x-styledLinkIcon mh2\" data-testid=\"icon-left\"><svg class=\"\" fill=\"none\" height=\"20\" viewbox=\"0 0 20 15\" width=\"20\" xmlns=\"http://www.w3.org/2000/svg\" xmlns:xlink=\"http://www.w3.org/1999/xlink\"><use href=\"#inf-promociones\" xlink:href=\"#inf-promociones\"></use></svg></span>Promociones</div></a></div></li></div><div class=\"pr0 items-stretch vtex-flex-layout-0-x-stretchChildrenWidth flex\" style=\"width:14%\"><li class=\"vtex-menu-2-x-menuItem list vtex-menu-2-x-menuItem vtex-menu-2-x-menuItem--isClosed\"><div class=\"vtex-menu-2-x-styledLinkContainer mh6 pv5\"><a class=\"vtex-menu-2-x-styledLink no-underline pointer t-body c-on-base pointer\" href=\"/folletos\" id=\"menu-item-brochures\" title=\"Folletos\"><div class=\"vtex-menu-2-x-styledLinkContent flex justify-between nowrap\"><span class=\"vtex-menu-2-x-styledLinkIcon mh2\" data-testid=\"icon-left\"><svg class=\"\" fill=\"none\" height=\"20\" viewbox=\"0 0 20 16\" width=\"20\" xmlns=\"http://www.w3.org/2000/svg\" xmlns:xlink=\"http://www.w3.org/1999/xlink\"><use href=\"#inf-folletos\" xlink:href=\"#inf-folletos\"></use></svg></span>Folletos</div></a></div></li></div><div class=\"pr0 items-stretch vtex-flex-layout-0-x-stretchChildrenWidth flex\" style=\"width:14%\"><li class=\"vtex-menu-2-x-menuItem list vtex-menu-2-x-menuItem vtex-menu-2-x-menuItem--isClosed\"><div class=\"vtex-menu-2-x-styledLinkContainer mh6 pv5\"><a class=\"vtex-menu-2-x-styledLink no-underline pointer t-body c-on-base pointer\" href=\"/sucursales\" id=\"menu-item-branchOffices\" title=\"Sucursales\"><div class=\"vtex-menu-2-x-styledLinkContent flex justify-between nowrap\"><span class=\"vtex-menu-2-x-styledLinkIcon mh2\" data-testid=\"icon-left\"><svg class=\"\" fill=\"none\" height=\"20\" viewbox=\"0 0 20 14\" width=\"20\" xmlns=\"http://www.w3.org/2000/svg\" xmlns:xlink=\"http://www.w3.org/1999/xlink\"><use href=\"#inf-sucursales\" xlink:href=\"#inf-sucursales\"></use></svg></span>Sucursales</div></a></div></li></div><div class=\"pr0 items-stretch vtex-flex-layout-0-x-stretchChildrenWidth flex\" style=\"width:14%\"><li class=\"vtex-menu-2-x-menuItem list vtex-menu-2-x-menuItem vtex-menu-2-x-menuItem--isClosed\"><div class=\"vtex-menu-2-x-styledLinkContainer mh6 pv5\"><a class=\"vtex-menu-2-x-styledLink no-underline pointer t-body c-on-base pointer\" href=\"https://www.bancodeserviciosfinancieros.com.ar/\" id=\"menu-item-carrefourCard\" title=\"Tarjeta Carrefour\"><div class=\"vtex-menu-2-x-styledLinkContent flex justify-between nowrap\"><span class=\"vtex-menu-2-x-styledLinkIcon mh2\" data-testid=\"icon-left\"><svg class=\"\" fill=\"none\" height=\"20\" viewbox=\"0 0 20 10\" width=\"20\" xmlns=\"http://www.w3.org/2000/svg\" xmlns:xlink=\"http://www.w3.org/1999/xlink\"><use href=\"#inf-tarjetaCarrefour\" xlink:href=\"#inf-tarjetaCarrefour\"></use></svg></span>Tarjeta Carrefour</div></a></div></li></div><div class=\"pr0 items-stretch vtex-flex-layout-0-x-stretchChildrenWidth flex\" style=\"width:14%\"><li class=\"vtex-menu-2-x-menuItem list vtex-menu-2-x-menuItem vtex-menu-2-x-menuItem--isClosed\"><div class=\"vtex-menu-2-x-styledLinkContainer mh6 pv5\"><a class=\"vtex-menu-2-x-styledLink no-underline pointer t-body c-on-base pointer\" href=\"https://www.micarrefour.com.ar/?_ga=2.133570766.1746496148.1668428414-1705640802.1668107776\" id=\"menu-item-mic\" title=\"Mi Carrefour\"><div class=\"vtex-menu-2-x-styledLinkContent flex justify-between nowrap\"><span class=\"vtex-menu-2-x-styledLinkIcon mh2\" data-testid=\"icon-left\"><svg class=\"\" fill=\"none\" height=\"20\" viewbox=\"0 0 20 10\" width=\"20\" xmlns=\"http://www.w3.org/2000/svg\" xmlns:xlink=\"http://www.w3.org/1999/xlink\"><use href=\"#inf-miCarrefour\" xlink:href=\"#inf-miCarrefour\"></use></svg></span>Mi Carrefour</div></a></div></li></div><div class=\"pr0 items-stretch vtex-flex-layout-0-x-stretchChildrenWidth flex\" style=\"width:14%\"></div></div></section></div></div><div class=\"lyracons-content-visibility-0-x-contentHide\"> <!-- --> </div></ul></nav></div></div></div></div>"
      ]
     },
     "execution_count": 101,
     "metadata": {},
     "output_type": "execute_result"
    }
   ],
   "source": [
    "five"
   ]
  },
  {
   "cell_type": "code",
   "execution_count": 104,
   "metadata": {},
   "outputs": [],
   "source": [
    "six = five.find(\"div\",class_=\"vtex-store-header-2-x-headerRow vtex-store-header-2-x-headerRow--topBar\")"
   ]
  },
  {
   "cell_type": "code",
   "execution_count": 108,
   "metadata": {},
   "outputs": [],
   "source": [
    "six.find(\"div\",class_=\"pa4 pointer vtex-store-drawer-0-x-openIconContainer vtex-store-drawer-0-x-openIconContainer--menuCategoryMobile\")"
   ]
  },
  {
   "cell_type": "code",
   "execution_count": 110,
   "metadata": {},
   "outputs": [
    {
     "data": {
      "text/plain": [
       "'Cómo comprarPromocionesFolletosSucursalesTarjeta CarrefourMi Carrefour  '"
      ]
     },
     "execution_count": 110,
     "metadata": {},
     "output_type": "execute_result"
    }
   ],
   "source": [
    "six.text"
   ]
  }
 ],
 "metadata": {
  "kernelspec": {
   "display_name": "Python 3",
   "language": "python",
   "name": "python3"
  },
  "language_info": {
   "codemirror_mode": {
    "name": "ipython",
    "version": 3
   },
   "file_extension": ".py",
   "mimetype": "text/x-python",
   "name": "python",
   "nbconvert_exporter": "python",
   "pygments_lexer": "ipython3",
   "version": "3.10.11"
  },
  "orig_nbformat": 4
 },
 "nbformat": 4,
 "nbformat_minor": 2
}
