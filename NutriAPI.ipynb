{
 "cells": [
  {
   "cell_type": "code",
   "execution_count": 19,
   "metadata": {},
   "outputs": [],
   "source": [
    "import requests\n",
    "import pandas as pd\n",
    "from bs4 import BeautifulSoup\n",
    "import time"
   ]
  },
  {
   "cell_type": "code",
   "execution_count": 50,
   "metadata": {},
   "outputs": [],
   "source": [
    "\"\"\"\n",
    "DEFINIR VARIABLE PARA CONSEGUIR TODAS LAS URLS DE LA PÁGINA\n",
    "\"\"\"\n",
    "URLS = [] # Lista vacia que contenga todas las URLS de la página\n",
    "\n",
    "URL_BASE = \"https://www.fatsecret.com.ar/calor%C3%ADas-nutrici%C3%B3n/search?q=9+de+Oro&pg=\" # Definimos la URL_BASE, la cual es la misma para todas las paginas\n",
    "\n",
    "# Hacemos un loop que agregue a la URL_BASE el numero de página.\n",
    "\n",
    "for num in range(0,271):\n",
    "\n",
    "    URL = URL_BASE + str(num) \n",
    "\n",
    "    URLS.append(URL) # Agregamos a la lista vacia las URLS de todas las página"
   ]
  },
  {
   "cell_type": "code",
   "execution_count": 46,
   "metadata": {},
   "outputs": [
    {
     "name": "stdout",
     "output_type": "stream",
     "text": [
      "https://www.fatsecret.com.ar/calor%C3%ADas-nutrici%C3%B3n/search?q=9+de+Oro&pg=1\n"
     ]
    }
   ],
   "source": [
    "print(URLS[1])"
   ]
  },
  {
   "cell_type": "code",
   "execution_count": 42,
   "metadata": {},
   "outputs": [],
   "source": [
    "\"\"\"\n",
    "CREAMOS EL DATAFRAME QUE CONTENERA LOS PRODUCTOS\n",
    "\"\"\"\n",
    "Tabla_Nutricional_Productos = pd.DataFrame()"
   ]
  },
  {
   "cell_type": "code",
   "execution_count": 52,
   "metadata": {},
   "outputs": [
    {
     "name": "stdout",
     "output_type": "stream",
     "text": [
      "Elapsed time: 0.74 seconds\n",
      "Elapsed time: 0.73 seconds\n",
      "Elapsed time: 0.76 seconds\n",
      "Elapsed time: 0.71 seconds\n",
      "Elapsed time: 0.73 seconds\n",
      "Elapsed time: 0.74 seconds\n",
      "Elapsed time: 0.76 seconds\n",
      "Elapsed time: 0.72 seconds\n",
      "Elapsed time: 0.76 seconds\n",
      "Elapsed time: 0.74 seconds\n",
      "Elapsed time: 0.75 seconds\n",
      "Elapsed time: 0.74 seconds\n",
      "Elapsed time: 0.73 seconds\n",
      "Elapsed time: 0.74 seconds\n",
      "Elapsed time: 0.84 seconds\n",
      "Elapsed time: 0.73 seconds\n",
      "Elapsed time: 0.77 seconds\n",
      "Elapsed time: 0.73 seconds\n",
      "Elapsed time: 0.71 seconds\n",
      "Elapsed time: 0.74 seconds\n",
      "Elapsed time: 0.73 seconds\n",
      "Elapsed time: 0.76 seconds\n",
      "Elapsed time: 0.77 seconds\n",
      "Elapsed time: 0.76 seconds\n",
      "Elapsed time: 0.74 seconds\n",
      "Elapsed time: 0.72 seconds\n",
      "Elapsed time: 0.70 seconds\n",
      "Elapsed time: 0.72 seconds\n",
      "Elapsed time: 0.79 seconds\n",
      "Elapsed time: 0.73 seconds\n",
      "Elapsed time: 0.74 seconds\n",
      "Elapsed time: 0.76 seconds\n",
      "Elapsed time: 0.73 seconds\n",
      "Elapsed time: 0.76 seconds\n",
      "Elapsed time: 0.73 seconds\n",
      "Elapsed time: 0.73 seconds\n",
      "Elapsed time: 0.77 seconds\n",
      "Elapsed time: 0.76 seconds\n",
      "Elapsed time: 0.74 seconds\n",
      "Elapsed time: 0.76 seconds\n",
      "Elapsed time: 0.73 seconds\n",
      "Elapsed time: 0.77 seconds\n",
      "Elapsed time: 0.72 seconds\n",
      "Elapsed time: 0.74 seconds\n",
      "Elapsed time: 0.71 seconds\n",
      "Elapsed time: 0.79 seconds\n",
      "Elapsed time: 0.72 seconds\n",
      "Elapsed time: 0.76 seconds\n",
      "Elapsed time: 0.72 seconds\n",
      "Elapsed time: 0.73 seconds\n",
      "Elapsed time: 0.74 seconds\n",
      "Elapsed time: 0.79 seconds\n",
      "Elapsed time: 0.72 seconds\n",
      "Elapsed time: 0.77 seconds\n",
      "Elapsed time: 0.71 seconds\n",
      "Elapsed time: 0.72 seconds\n",
      "Elapsed time: 0.75 seconds\n",
      "Elapsed time: 0.71 seconds\n",
      "Elapsed time: 0.75 seconds\n",
      "Elapsed time: 0.73 seconds\n",
      "Elapsed time: 0.73 seconds\n",
      "Elapsed time: 100.76 seconds\n",
      "Elapsed time: 0.76 seconds\n",
      "Elapsed time: 0.85 seconds\n",
      "Elapsed time: 0.73 seconds\n",
      "Elapsed time: 0.73 seconds\n",
      "Elapsed time: 0.73 seconds\n",
      "Elapsed time: 0.73 seconds\n",
      "Elapsed time: 0.75 seconds\n",
      "Elapsed time: 0.73 seconds\n",
      "Elapsed time: 0.71 seconds\n",
      "Elapsed time: 0.76 seconds\n",
      "Elapsed time: 0.77 seconds\n",
      "Elapsed time: 0.74 seconds\n",
      "Elapsed time: 0.75 seconds\n",
      "Elapsed time: 0.75 seconds\n",
      "Elapsed time: 1.06 seconds\n"
     ]
    },
    {
     "ename": "AttributeError",
     "evalue": "'NoneType' object has no attribute 'find_all'",
     "output_type": "error",
     "traceback": [
      "\u001b[1;31m---------------------------------------------------------------------------\u001b[0m",
      "\u001b[1;31mAttributeError\u001b[0m                            Traceback (most recent call last)",
      "Cell \u001b[1;32mIn[52], line 13\u001b[0m\n\u001b[0;32m      9\u001b[0m pagesoup \u001b[39m=\u001b[39m BeautifulSoup(page\u001b[39m.\u001b[39mcontent, \u001b[39m\"\u001b[39m\u001b[39mhtml.parser\u001b[39m\u001b[39m\"\u001b[39m)\n\u001b[0;32m     11\u001b[0m tabla \u001b[39m=\u001b[39m pagesoup\u001b[39m.\u001b[39mfind(\u001b[39m\"\u001b[39m\u001b[39mtd\u001b[39m\u001b[39m\"\u001b[39m,class_\u001b[39m=\u001b[39m\u001b[39m\"\u001b[39m\u001b[39mleftCell\u001b[39m\u001b[39m\"\u001b[39m)\n\u001b[1;32m---> 13\u001b[0m Productos \u001b[39m=\u001b[39m tabla\u001b[39m.\u001b[39;49mfind_all(\u001b[39m\"\u001b[39m\u001b[39ma\u001b[39m\u001b[39m\"\u001b[39m,class_\u001b[39m=\u001b[39m\u001b[39m\"\u001b[39m\u001b[39mprominent\u001b[39m\u001b[39m\"\u001b[39m)\n\u001b[0;32m     14\u001b[0m Producto \u001b[39m=\u001b[39m [caracter\u001b[39m.\u001b[39mtext \u001b[39mfor\u001b[39;00m caracter \u001b[39min\u001b[39;00m Productos]\n\u001b[0;32m     16\u001b[0m Marcas \u001b[39m=\u001b[39m tabla\u001b[39m.\u001b[39mfind_all(\u001b[39m\"\u001b[39m\u001b[39ma\u001b[39m\u001b[39m\"\u001b[39m,class_\u001b[39m=\u001b[39m\u001b[39m\"\u001b[39m\u001b[39mbrand\u001b[39m\u001b[39m\"\u001b[39m)\n",
      "\u001b[1;31mAttributeError\u001b[0m: 'NoneType' object has no attribute 'find_all'"
     ]
    }
   ],
   "source": [
    "\"\"\"\n",
    "LOOP PRINCIPAL PARA CONSEGUIR LA INFORMACIÓN NUTRICIONAL\n",
    "\"\"\"\n",
    "\n",
    "for url in URLS:\n",
    "    start_time = time.time()\n",
    "    page = requests.get(url)\n",
    "\n",
    "    pagesoup = BeautifulSoup(page.content, \"html.parser\")\n",
    "\n",
    "    tabla = pagesoup.find(\"td\",class_=\"leftCell\")\n",
    "\n",
    "    Productos = tabla.find_all(\"a\",class_=\"prominent\")\n",
    "    Producto = [caracter.text for caracter in Productos]\n",
    "    \n",
    "    Marcas = tabla.find_all(\"a\",class_=\"brand\")\n",
    "    Marca = [caracter.text.replace(\"(\",\"\").replace(\")\",\"\") if len(caracter.text) > 0 else None for caracter in Marcas]\n",
    "            \n",
    "    Cantidades = tabla.find_all(\"div\",class_=\"smallText greyText greyLink\")\n",
    "    Cantidad = [caracter.text.replace(\"\\r\", \"\").replace(\"\\n\", \"\").replace(\"\\t\", \"\").split(\"-\", 1)[0] for caracter in Cantidades]\n",
    "            \n",
    "    Calorias = tabla.find_all(\"div\", class_=\"smallText greyText greyLink\")\n",
    "    Caloria = [caracter.text.replace(\"\\r\", \"\").replace(\"\\n\", \"\").replace(\"\\t\", \"\").split(\"-\", 1)[-1].split(\"|\")[0].strip().replace(\"Calorías:\", \"\").strip() \n",
    "           for caracter in Calorias]\n",
    "            \n",
    "    Grasas = tabla.find_all(\"div\", class_=\"smallText greyText greyLink\")\n",
    "    Grasa = [caracter.text.replace(\"\\r\", \"\").replace(\"\\n\", \"\").replace(\"\\t\", \"\").split(\"|\", 1)[-1].split(\"|\")[0].strip().replace(\"Grasa:\", \"\").strip() \n",
    "         for caracter in Grasas]\n",
    "            \n",
    "    Carbohidratos = tabla.find_all(\"div\", class_=\"smallText greyText greyLink\")\n",
    "    Carbohidrato = [caracter.text.replace(\"\\r\", \"\").replace(\"\\n\", \"\").replace(\"\\t\", \"\").split(\"|\", 2)[-1].split(\"|\")[0].strip().replace(\"Carbh:\", \"\").strip()\n",
    "                for caracter in Carbohidratos]\n",
    "            \n",
    "    Proteinas = tabla.find_all(\"div\", class_=\"smallText greyText greyLink\")\n",
    "    Proteina = [caracter.text.replace(\"\\r\", \"\").replace(\"\\n\", \"\").replace(\"\\t\", \"\").split(\"|\", 3)[-1].split(\"|\")[0].strip().replace(\"Prot:\", \"\").split(\"g\", 1)[0] + \"g\".strip() \n",
    "            for caracter in Proteinas]\n",
    "    elapsed_time = time.time() - start_time\n",
    "    print(f\"Elapsed time: {elapsed_time:.2f} seconds\")\n",
    "    if not Tabla_Nutricional_Productos.empty:\n",
    "        columnas = [\"Producto\",\"Marca\",\"Cantidad(g)\",\"Caloria(kcal)\",\"Grasa(g)\",\"Carbohidrato(g)\",\"Proteina(g)\"]\n",
    "        data_ = list(zip(Producto, Marca, Cantidad, Caloria, Grasa, Carbohidrato, Proteina))\n",
    "        df = pd.DataFrame(columns=columnas,data=data_)\n",
    "        Tabla_Nutricional_Productos = pd.concat([Tabla_Nutricional_Productos,df],ignore_index=True)\n",
    "    else:\n",
    "        columnas = [\"Producto\",\"Marca\",\"Cantidad(g)\",\"Caloria(kcal)\",\"Grasa(g)\",\"Carbohidrato(g)\",\"Proteina(g)\"]\n",
    "        data_ = list(zip(Producto, Marca, Cantidad, Caloria, Grasa, Carbohidrato, Proteina))\n",
    "        Tabla_Nutricional_Productos = pd.DataFrame(columns=columnas,data=data_)\n",
    "    "
   ]
  },
  {
   "cell_type": "code",
   "execution_count": 12,
   "metadata": {},
   "outputs": [],
   "source": [
    "Tabla_Nutricional_Productos[\"Proteina(g)\"] = Tabla_Nutricional_Productos[\"Proteina(g)\"].str.replace(\",\",\".\")\n",
    "Tabla_Nutricional_Productos[\"Proteina(g)\"] = Tabla_Nutricional_Productos[\"Proteina(g)\"].str.replace(\"g\",\"\")\n",
    "Tabla_Nutricional_Productos[\"Grasa(g)\"] = Tabla_Nutricional_Productos[\"Grasa(g)\"].str.replace(\",\",\".\")\n",
    "Tabla_Nutricional_Productos[\"Grasa(g)\"] = Tabla_Nutricional_Productos[\"Grasa(g)\"].str.replace(\"g\",\"\")\n",
    "Tabla_Nutricional_Productos[\"Carbohidrato(g)\"] = Tabla_Nutricional_Productos[\"Carbohidrato(g)\"].str.replace(\",\",\".\")\n",
    "Tabla_Nutricional_Productos[\"Carbohidrato(g)\"] = Tabla_Nutricional_Productos[\"Carbohidrato(g)\"].str.replace(\"g\",\"\")\n",
    "Tabla_Nutricional_Productos[\"Caloria(kcal)\"] = Tabla_Nutricional_Productos[\"Caloria(kcal)\"].str.replace(\"kcal\",\"\")\n",
    "Tabla_Nutricional_Productos[\"Cantidad(g)\"] = Tabla_Nutricional_Productos[\"Cantidad(g)\"].str.extract(r'\\((.*?)\\)')\n",
    "Tabla_Nutricional_Productos[\"Cantidad(g)\"] = Tabla_Nutricional_Productos[\"Cantidad(g)\"].str.replace(\"g\",\"\")\n",
    "\n"
   ]
  },
  {
   "cell_type": "code",
   "execution_count": 54,
   "metadata": {},
   "outputs": [],
   "source": [
    "Tabla_Nutricional_Productos[\"Caloria(kcal)\"] = Tabla_Nutricional_Productos[\"Caloria(kcal)\"].astype(\"Int64\")\n",
    "Tabla_Nutricional_Productos[\"Grasa(g)\"] = Tabla_Nutricional_Productos[\"Grasa(g)\"].astype(\"Float64\")\n",
    "Tabla_Nutricional_Productos[\"Carbohidrato(g)\"] = Tabla_Nutricional_Productos[\"Carbohidrato(g)\"].astype(\"Float64\")\n",
    "Tabla_Nutricional_Productos[\"Proteina(g)\"] = Tabla_Nutricional_Productos[\"Proteina(g)\"].astype(\"Float64\")"
   ]
  },
  {
   "cell_type": "code",
   "execution_count": 51,
   "metadata": {},
   "outputs": [],
   "source": [
    "for url in URLS:\n",
    "    page = requests.get(url)\n",
    "    pagesoup = BeautifulSoup(page.content, \"html.parser\")\n",
    "    tabla = pagesoup.find(\"td\",class_=\"leftCell\")\n",
    "\n",
    "    Productos = tabla.find_all('div',class_='smallText greyText greyLink')\n",
    "\n",
    "    Cantidades = [cantidad.text.replace(\"\\r\", \"\").replace(\"\\n\", \"\").replace(\"\\t\", \"\").split(\"-\", 1)[0] for cantidad in Productos]\n",
    "\n",
    "    Calorias = [caloria.text.replace(\"\\r\", \"\").replace(\"\\n\", \"\").replace(\"\\t\", \"\").split(\"-\", 1)[-1].split(\"|\")[0].strip().replace(\"Calorías:\", \"\").strip() for caloria in Productos]\n",
    "\n",
    "    Grasas = [grasa.text.replace(\"\\r\", \"\").replace(\"\\n\", \"\").replace(\"\\t\", \"\").split(\"|\", 1)[-1].split(\"|\")[0].strip().replace(\"Grasa:\", \"\").strip() for grasa in Productos]\n",
    "\n",
    "    Carbohidratos = [carbohidrato.text.replace(\"\\r\", \"\").replace(\"\\n\", \"\").replace(\"\\t\", \"\").split(\"|\", 2)[-1].split(\"|\")[0].strip().replace(\"Carbh:\", \"\").strip() for carbohidrato in Productos]\n",
    "\n",
    "    Proteinas = [proteina.text.replace(\"\\r\", \"\").replace(\"\\n\", \"\").replace(\"\\t\", \"\").split(\"|\", 3)[-1].split(\"|\")[0].strip().replace(\"Prot:\", \"\").split(\"g\", 1)[0] + \"g\".strip()\n",
    "    for proteina in Productos]\n",
    "\n",
    "    "
   ]
  }
 ],
 "metadata": {
  "kernelspec": {
   "display_name": "Python 3",
   "language": "python",
   "name": "python3"
  },
  "language_info": {
   "codemirror_mode": {
    "name": "ipython",
    "version": 3
   },
   "file_extension": ".py",
   "mimetype": "text/x-python",
   "name": "python",
   "nbconvert_exporter": "python",
   "pygments_lexer": "ipython3",
   "version": "3.11.4"
  },
  "orig_nbformat": 4
 },
 "nbformat": 4,
 "nbformat_minor": 2
}
