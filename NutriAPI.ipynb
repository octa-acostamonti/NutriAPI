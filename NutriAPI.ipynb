{
 "cells": [
  {
   "cell_type": "code",
   "execution_count": 7,
   "metadata": {},
   "outputs": [],
   "source": [
    "import requests\n",
    "import pandas as pd\n",
    "from bs4 import BeautifulSoup"
   ]
  },
  {
   "cell_type": "code",
   "execution_count": 8,
   "metadata": {},
   "outputs": [],
   "source": [
    "\"\"\"\n",
    "DEFINIR VARIABLE PARA CONSEGUIR TODAS LAS URLS DE LA PÁGINA\n",
    "\"\"\"\n",
    "URLS = [] # Lista vacia que contenga todas las URLS de la página\n",
    "\n",
    "URL_BASE = \"https://www.fatsecret.com.ar/calor%C3%ADas-nutrici%C3%B3n/search?q=9+de+Oro&pg=\" # Definimos la URL_BASE, la cual es la misma para todas las paginas\n",
    "\n",
    "# Hacemos un loop que agregue a la URL_BASE el numero de página.\n",
    "\n",
    "for num in range(0,271):\n",
    "\n",
    "    URL = URL_BASE + str(num) \n",
    "\n",
    "    URLS.append(URL) # Agregamos a la lista vacia las URLS de todas las página"
   ]
  },
  {
   "cell_type": "code",
   "execution_count": 9,
   "metadata": {},
   "outputs": [
    {
     "name": "stdout",
     "output_type": "stream",
     "text": [
      "https://www.fatsecret.com.ar/calor%C3%ADas-nutrici%C3%B3n/search?q=9+de+Oro&pg=2\n"
     ]
    }
   ],
   "source": [
    "print(URLS[2])"
   ]
  },
  {
   "cell_type": "code",
   "execution_count": 10,
   "metadata": {},
   "outputs": [],
   "source": [
    "\"\"\"\n",
    "CREAMOS EL DATAFRAME QUE CONTENERA LOS PRODUCTOS\n",
    "\"\"\"\n",
    "Tabla_Nutricional_Productos = pd.DataFrame()"
   ]
  },
  {
   "cell_type": "code",
   "execution_count": 11,
   "metadata": {},
   "outputs": [],
   "source": [
    "\"\"\"\n",
    "LOOP PRINCIPAL PARA CONSEGUIR LA INFORMACIÓN NUTRICIONAL\n",
    "\"\"\"\n",
    "\n",
    "for url in URLS:\n",
    "    \n",
    "    page = requests.get(url)\n",
    "\n",
    "    pagesoup = BeautifulSoup(page.content, \"html.parser\")\n",
    "\n",
    "    tabla = pagesoup.find(\"td\",class_=\"leftCell\")\n",
    "\n",
    "    Productos = tabla.find_all(\"a\",class_=\"prominent\")\n",
    "    Producto = [caracter.text for caracter in Productos]\n",
    "    \n",
    "    Marcas = tabla.find_all(\"a\",class_=\"brand\")\n",
    "    Marca = [caracter.text.replace(\"(\",\"\").replace(\")\",\"\") if len(caracter.text) > 0 else None for caracter in Marcas]\n",
    "            \n",
    "    Cantidades = tabla.find_all(\"div\",class_=\"smallText greyText greyLink\")\n",
    "    Cantidad = [caracter.text.replace(\"\\r\", \"\").replace(\"\\n\", \"\").replace(\"\\t\", \"\").split(\"-\", 1)[0] for caracter in Cantidades]\n",
    "            \n",
    "    Calorias = tabla.find_all(\"div\", class_=\"smallText greyText greyLink\")\n",
    "    Caloria = [caracter.text.replace(\"\\r\", \"\").replace(\"\\n\", \"\").replace(\"\\t\", \"\").split(\"-\", 1)[-1].split(\"|\")[0].strip().replace(\"Calorías:\", \"\").strip() \n",
    "           for caracter in Calorias]\n",
    "            \n",
    "    Grasas = tabla.find_all(\"div\", class_=\"smallText greyText greyLink\")\n",
    "    Grasa = [caracter.text.replace(\"\\r\", \"\").replace(\"\\n\", \"\").replace(\"\\t\", \"\").split(\"|\", 1)[-1].split(\"|\")[0].strip().replace(\"Grasa:\", \"\").strip() \n",
    "         for caracter in Grasas]\n",
    "            \n",
    "    Carbohidratos = tabla.find_all(\"div\", class_=\"smallText greyText greyLink\")\n",
    "    Carbohidrato = [caracter.text.replace(\"\\r\", \"\").replace(\"\\n\", \"\").replace(\"\\t\", \"\").split(\"|\", 2)[-1].split(\"|\")[0].strip().replace(\"Carbh:\", \"\").strip()\n",
    "                for caracter in Carbohidratos]\n",
    "            \n",
    "    Proteinas = tabla.find_all(\"div\", class_=\"smallText greyText greyLink\")\n",
    "    Proteina = [caracter.text.replace(\"\\r\", \"\").replace(\"\\n\", \"\").replace(\"\\t\", \"\").split(\"|\", 3)[-1].split(\"|\")[0].strip().replace(\"Prot:\", \"\").split(\"g\", 1)[0] + \"g\".strip() \n",
    "            for caracter in Proteinas]\n",
    "        \n",
    "    if not Tabla_Nutricional_Productos.empty:\n",
    "        columnas = [\"Producto\",\"Marca\",\"Cantidad(g)\",\"Caloria(kcal)\",\"Grasa(g)\",\"Carbohidrato(g)\",\"Proteina(g)\"]\n",
    "        data_ = list(zip(Producto, Marca, Cantidad, Caloria, Grasa, Carbohidrato, Proteina))\n",
    "        df = pd.DataFrame(columns=columnas,data=data_)\n",
    "        Tabla_Nutricional_Productos = pd.concat([Tabla_Nutricional_Productos,df],ignore_index=True)\n",
    "    else:\n",
    "        columnas = [\"Producto\",\"Marca\",\"Cantidad(g)\",\"Caloria(kcal)\",\"Grasa(g)\",\"Carbohidrato(g)\",\"Proteina(g)\"]\n",
    "        data_ = list(zip(Producto, Marca, Cantidad, Caloria, Grasa, Carbohidrato, Proteina))\n",
    "        Tabla_Nutricional_Productos = pd.DataFrame(columns=columnas,data=data_)"
   ]
  },
  {
   "cell_type": "code",
   "execution_count": 12,
   "metadata": {},
   "outputs": [],
   "source": [
    "Tabla_Nutricional_Productos[\"Proteina(g)\"] = Tabla_Nutricional_Productos[\"Proteina(g)\"].str.replace(\",\",\".\")\n",
    "Tabla_Nutricional_Productos[\"Proteina(g)\"] = Tabla_Nutricional_Productos[\"Proteina(g)\"].str.replace(\"g\",\"\")\n",
    "Tabla_Nutricional_Productos[\"Grasa(g)\"] = Tabla_Nutricional_Productos[\"Grasa(g)\"].str.replace(\",\",\".\")\n",
    "Tabla_Nutricional_Productos[\"Grasa(g)\"] = Tabla_Nutricional_Productos[\"Grasa(g)\"].str.replace(\"g\",\"\")\n",
    "Tabla_Nutricional_Productos[\"Carbohidrato(g)\"] = Tabla_Nutricional_Productos[\"Carbohidrato(g)\"].str.replace(\",\",\".\")\n",
    "Tabla_Nutricional_Productos[\"Carbohidrato(g)\"] = Tabla_Nutricional_Productos[\"Carbohidrato(g)\"].str.replace(\"g\",\"\")\n",
    "Tabla_Nutricional_Productos[\"Caloria(kcal)\"] = Tabla_Nutricional_Productos[\"Caloria(kcal)\"].str.replace(\"kcal\",\"\")\n",
    "Tabla_Nutricional_Productos[\"Cantidad(g)\"] = Tabla_Nutricional_Productos[\"Cantidad(g)\"].str.extract(r'\\((.*?)\\)')\n",
    "Tabla_Nutricional_Productos[\"Cantidad(g)\"] = Tabla_Nutricional_Productos[\"Cantidad(g)\"].str.replace(\"g\",\"\")\n",
    "\n"
   ]
  },
  {
   "cell_type": "code",
   "execution_count": 54,
   "metadata": {},
   "outputs": [],
   "source": [
    "Tabla_Nutricional_Productos[\"Caloria(kcal)\"] = Tabla_Nutricional_Productos[\"Caloria(kcal)\"].astype(\"Int64\")\n",
    "Tabla_Nutricional_Productos[\"Grasa(g)\"] = Tabla_Nutricional_Productos[\"Grasa(g)\"].astype(\"Float64\")\n",
    "Tabla_Nutricional_Productos[\"Carbohidrato(g)\"] = Tabla_Nutricional_Productos[\"Carbohidrato(g)\"].astype(\"Float64\")\n",
    "Tabla_Nutricional_Productos[\"Proteina(g)\"] = Tabla_Nutricional_Productos[\"Proteina(g)\"].astype(\"Float64\")"
   ]
  }
 ],
 "metadata": {
  "kernelspec": {
   "display_name": "Python 3",
   "language": "python",
   "name": "python3"
  },
  "language_info": {
   "codemirror_mode": {
    "name": "ipython",
    "version": 3
   },
   "file_extension": ".py",
   "mimetype": "text/x-python",
   "name": "python",
   "nbconvert_exporter": "python",
   "pygments_lexer": "ipython3",
   "version": "3.11.4"
  },
  "orig_nbformat": 4
 },
 "nbformat": 4,
 "nbformat_minor": 2
}
